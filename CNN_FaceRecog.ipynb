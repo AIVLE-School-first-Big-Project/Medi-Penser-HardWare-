{
 "cells": [
  {
   "cell_type": "markdown",
   "metadata": {},
   "source": [
    "# 얼굴 인식을 사용한 사람인식 학습\n",
    "- 프로젝트에 필요한 팀원 2명의 얼굴 데이터(2개의 서보모터에 대응) + lfw 얼굴 데이터셋 중 50개 이상의 이미지가 있는 인물만을 추가로 학습데이터에 적용"
   ]
  },
  {
   "cell_type": "code",
   "execution_count": 1,
   "metadata": {
    "ExecuteTime": {
     "end_time": "2022-05-10T17:33:41.563695Z",
     "start_time": "2022-05-10T17:33:40.732942Z"
    }
   },
   "outputs": [],
   "source": [
    "import os\n",
    "import cv2\n",
    "import itertools\n",
    "import numpy as np\n",
    "import pandas as pd\n",
    "import matplotlib.pyplot as plt\n",
    "from IPython.display import SVG\n",
    "\n",
    "from sklearn.preprocessing import LabelEncoder\n",
    "from sklearn.model_selection import train_test_split\n",
    "from sklearn.metrics import classification_report\n",
    "from sklearn.metrics import confusion_matrix"
   ]
  },
  {
   "cell_type": "code",
   "execution_count": 2,
   "metadata": {
    "ExecuteTime": {
     "end_time": "2022-05-10T17:33:42.982982Z",
     "start_time": "2022-05-10T17:33:41.564696Z"
    }
   },
   "outputs": [],
   "source": [
    "import tensorflow as tf\n",
    "from tensorflow import keras"
   ]
  },
  {
   "cell_type": "code",
   "execution_count": 3,
   "metadata": {
    "ExecuteTime": {
     "end_time": "2022-05-10T17:33:42.987986Z",
     "start_time": "2022-05-10T17:33:42.983984Z"
    }
   },
   "outputs": [],
   "source": [
    "from tensorflow.keras.models import Sequential, Model\n",
    "from tensorflow.keras.layers import Dense, Activation, Input\n",
    "from tensorflow.keras.utils import to_categorical\n",
    "from tensorflow.keras import layers, models\n",
    "from tensorflow.keras.utils import plot_model\n",
    "%matplotlib inline\n",
    "\n",
    "from tensorflow.keras.layers import Conv2D, MaxPool2D, Flatten"
   ]
  },
  {
   "cell_type": "code",
   "execution_count": 61,
   "metadata": {
    "ExecuteTime": {
     "end_time": "2022-05-11T01:12:09.241818Z",
     "start_time": "2022-05-11T01:12:09.216787Z"
    }
   },
   "outputs": [],
   "source": [
    "#데이터셋 폴더 지정\n",
    "\n",
    "dataset_folder = \"dataset/\""
   ]
  },
  {
   "cell_type": "code",
   "execution_count": null,
   "metadata": {},
   "outputs": [],
   "source": [
    "cap = cv2.VideoCapture(0)\n",
    "\n",
    "my_name = \"KeonHee_Jeong\"\n",
    "os.mkdir(dataset_folder + my_name)\n",
    "num_sample = 50\n",
    "\n",
    "i = 0\n",
    "while cap.isOpened():\n",
    "    ret, frame = cap.read()\n",
    "    \n",
    "    if ret :\n",
    "        cv2.imshow(\"Capture Photo\", frame)\n",
    "        cv2.imwrite(\"dataset/%s/%s_%04d.jpg\" %  (my_name, my_name, i), cv2.resize(frame, (250,250)))\n",
    "        \n",
    "        if cv2.waitKey(100) == ord('q') or i == num_sample:\n",
    "            break\n",
    "        i += 1    \n",
    "cap.release()\n",
    "cv2.destroyAllWindows()"
   ]
  },
  {
   "cell_type": "markdown",
   "metadata": {},
   "source": [
    "# 1. 얼굴 인식(Face Recognition using (Convolution Neural Network)) - CNN"
   ]
  },
  {
   "cell_type": "markdown",
   "metadata": {},
   "source": [
    "추가적으로 데이터셋을 적용했습니다.\n",
    "- Download Dataset : \n",
    "    - LFW(유명 정치인 등의 실제 얼굴에 대한 이미지 데이터) : http://vis-www.cs.umass.edu/lfw/"
   ]
  },
  {
   "cell_type": "code",
   "execution_count": 4,
   "metadata": {
    "ExecuteTime": {
     "end_time": "2022-05-10T17:33:45.984488Z",
     "start_time": "2022-05-10T17:33:45.981486Z"
    }
   },
   "outputs": [],
   "source": [
    "def detect_face(img):\n",
    "    img = img[70:195,78:172]\n",
    "    img = cv2.cvtColor(img, cv2.COLOR_BGR2GRAY)\n",
    "    img = cv2.resize(img, (50, 50))\n",
    "    return img"
   ]
  },
  {
   "cell_type": "code",
   "execution_count": 5,
   "metadata": {
    "ExecuteTime": {
     "end_time": "2022-05-10T17:33:46.176004Z",
     "start_time": "2022-05-10T17:33:46.173002Z"
    }
   },
   "outputs": [],
   "source": [
    "def print_progress(val, val_len, folder, bar_size=20):\n",
    "    progr = \"#\"*round((val)*bar_size/val_len) + \" \"*round((val_len - (val))*bar_size/val_len)\n",
    "    if val == 0:\n",
    "        print(\"\", end = \"\\n\")\n",
    "    else:\n",
    "        print(\"[%s] (%d samples)\\t label : %s \\t\\t\" % (progr, val+1, folder), end=\"\\r\")"
   ]
  },
  {
   "cell_type": "code",
   "execution_count": 6,
   "metadata": {
    "ExecuteTime": {
     "end_time": "2022-05-10T17:33:47.709723Z",
     "start_time": "2022-05-10T17:33:46.365509Z"
    },
    "scrolled": true
   },
   "outputs": [
    {
     "name": "stdout",
     "output_type": "stream",
     "text": [
      "\n",
      "[                    ] (2 samples)\t label : Ariel_Sharon \t\t\r",
      "[#                   ] (3 samples)\t label : Ariel_Sharon \t\t\r",
      "[#                   ] (4 samples)\t label : Ariel_Sharon \t\t\r",
      "[#                   ] (5 samples)\t label : Ariel_Sharon \t\t\r",
      "[#                   ] (6 samples)\t label : Ariel_Sharon \t\t\r",
      "[##                  ] (7 samples)\t label : Ariel_Sharon \t\t\r",
      "[##                  ] (8 samples)\t label : Ariel_Sharon \t\t\r",
      "[##                  ] (9 samples)\t label : Ariel_Sharon \t\t\r",
      "[##                  ] (10 samples)\t label : Ariel_Sharon \t\t\r",
      "[###                 ] (11 samples)\t label : Ariel_Sharon \t\t\r",
      "[###                 ] (12 samples)\t label : Ariel_Sharon \t\t\r",
      "[###                 ] (13 samples)\t label : Ariel_Sharon \t\t\r",
      "[###                 ] (14 samples)\t label : Ariel_Sharon \t\t\r",
      "[####                ] (15 samples)\t label : Ariel_Sharon \t\t\r",
      "[####                ] (16 samples)\t label : Ariel_Sharon \t\t\r",
      "[####                ] (17 samples)\t label : Ariel_Sharon \t\t\r",
      "[####                ] (18 samples)\t label : Ariel_Sharon \t\t\r",
      "[#####               ] (19 samples)\t label : Ariel_Sharon \t\t\r",
      "[#####               ] (20 samples)\t label : Ariel_Sharon \t\t\r",
      "[#####               ] (21 samples)\t label : Ariel_Sharon \t\t\r",
      "[#####               ] (22 samples)\t label : Ariel_Sharon \t\t\r",
      "[######              ] (23 samples)\t label : Ariel_Sharon \t\t\r",
      "[######              ] (24 samples)\t label : Ariel_Sharon \t\t\r",
      "[######              ] (25 samples)\t label : Ariel_Sharon \t\t\r",
      "[######              ] (26 samples)\t label : Ariel_Sharon \t\t\r",
      "[#######             ] (27 samples)\t label : Ariel_Sharon \t\t\r",
      "[#######             ] (28 samples)\t label : Ariel_Sharon \t\t\r",
      "[#######             ] (29 samples)\t label : Ariel_Sharon \t\t\r",
      "[########            ] (30 samples)\t label : Ariel_Sharon \t\t\r",
      "[########            ] (31 samples)\t label : Ariel_Sharon \t\t\r",
      "[########            ] (32 samples)\t label : Ariel_Sharon \t\t\r",
      "[########            ] (33 samples)\t label : Ariel_Sharon \t\t\r",
      "[#########           ] (34 samples)\t label : Ariel_Sharon \t\t\r",
      "[#########           ] (35 samples)\t label : Ariel_Sharon \t\t\r",
      "[#########           ] (36 samples)\t label : Ariel_Sharon \t\t\r",
      "[#########           ] (37 samples)\t label : Ariel_Sharon \t\t\r",
      "[##########          ] (38 samples)\t label : Ariel_Sharon \t\t\r",
      "[##########          ] (39 samples)\t label : Ariel_Sharon \t\t\r",
      "[##########          ] (40 samples)\t label : Ariel_Sharon \t\t\r",
      "[##########          ] (41 samples)\t label : Ariel_Sharon \t\t\r",
      "[###########         ] (42 samples)\t label : Ariel_Sharon \t\t\r",
      "[###########         ] (43 samples)\t label : Ariel_Sharon \t\t\r",
      "[###########         ] (44 samples)\t label : Ariel_Sharon \t\t\r",
      "[###########         ] (45 samples)\t label : Ariel_Sharon \t\t\r",
      "[############        ] (46 samples)\t label : Ariel_Sharon \t\t\r",
      "[############        ] (47 samples)\t label : Ariel_Sharon \t\t\r",
      "[############        ] (48 samples)\t label : Ariel_Sharon \t\t\r",
      "[############        ] (49 samples)\t label : Ariel_Sharon \t\t\r",
      "[#############       ] (50 samples)\t label : Ariel_Sharon \t\t\r",
      "[#############       ] (51 samples)\t label : Ariel_Sharon \t\t\r",
      "[#############       ] (52 samples)\t label : Ariel_Sharon \t\t\r",
      "[##############      ] (53 samples)\t label : Ariel_Sharon \t\t\r",
      "[##############      ] (54 samples)\t label : Ariel_Sharon \t\t\r",
      "[##############      ] (55 samples)\t label : Ariel_Sharon \t\t\r",
      "[##############      ] (56 samples)\t label : Ariel_Sharon \t\t\r",
      "[###############     ] (57 samples)\t label : Ariel_Sharon \t\t\r",
      "[###############     ] (58 samples)\t label : Ariel_Sharon \t\t\r",
      "[###############     ] (59 samples)\t label : Ariel_Sharon \t\t\r",
      "[###############     ] (60 samples)\t label : Ariel_Sharon \t\t\r",
      "[################    ] (61 samples)\t label : Ariel_Sharon \t\t\r",
      "[################    ] (62 samples)\t label : Ariel_Sharon \t\t\r",
      "[################    ] (63 samples)\t label : Ariel_Sharon \t\t\r",
      "[################    ] (64 samples)\t label : Ariel_Sharon \t\t\r",
      "[#################   ] (65 samples)\t label : Ariel_Sharon \t\t\r",
      "[#################   ] (66 samples)\t label : Ariel_Sharon \t\t\r",
      "[#################   ] (67 samples)\t label : Ariel_Sharon \t\t\r",
      "[#################   ] (68 samples)\t label : Ariel_Sharon \t\t\r",
      "[##################  ] (69 samples)\t label : Ariel_Sharon \t\t\r",
      "[##################  ] (70 samples)\t label : Ariel_Sharon \t\t\r",
      "[##################  ] (71 samples)\t label : Ariel_Sharon \t\t\r",
      "[##################  ] (72 samples)\t label : Ariel_Sharon \t\t\r",
      "[################### ] (73 samples)\t label : Ariel_Sharon \t\t\r",
      "[################### ] (74 samples)\t label : Ariel_Sharon \t\t\r",
      "[################### ] (75 samples)\t label : Ariel_Sharon \t\t\r",
      "[################### ] (76 samples)\t label : Ariel_Sharon \t\t\r",
      "[####################] (77 samples)\t label : Ariel_Sharon \t\t\r\n"
     ]
    },
    {
     "name": "stdout",
     "output_type": "stream",
     "text": [
      "[                    ] (2 samples)\t label : Colin_Powell \t\t\r",
      "[                    ] (3 samples)\t label : Colin_Powell \t\t\r",
      "[                    ] (4 samples)\t label : Colin_Powell \t\t\r",
      "[#                   ] (5 samples)\t label : Colin_Powell \t\t\r",
      "[#                   ] (6 samples)\t label : Colin_Powell \t\t\r",
      "[#                   ] (7 samples)\t label : Colin_Powell \t\t\r",
      "[#                   ] (8 samples)\t label : Colin_Powell \t\t\r",
      "[#                   ] (9 samples)\t label : Colin_Powell \t\t\r",
      "[#                   ] (10 samples)\t label : Colin_Powell \t\t\r",
      "[#                   ] (11 samples)\t label : Colin_Powell \t\t\r",
      "[#                   ] (12 samples)\t label : Colin_Powell \t\t\r",
      "[##                  ] (13 samples)\t label : Colin_Powell \t\t\r",
      "[##                  ] (14 samples)\t label : Colin_Powell \t\t\r",
      "[##                  ] (15 samples)\t label : Colin_Powell \t\t\r",
      "[##                  ] (16 samples)\t label : Colin_Powell \t\t\r",
      "[##                  ] (17 samples)\t label : Colin_Powell \t\t\r",
      "[##                  ] (18 samples)\t label : Colin_Powell \t\t\r",
      "[##                  ] (19 samples)\t label : Colin_Powell \t\t\r",
      "[###                 ] (20 samples)\t label : Colin_Powell \t\t\r",
      "[###                 ] (21 samples)\t label : Colin_Powell \t\t\r",
      "[###                 ] (22 samples)\t label : Colin_Powell \t\t\r",
      "[###                 ] (23 samples)\t label : Colin_Powell \t\t\r",
      "[###                 ] (24 samples)\t label : Colin_Powell \t\t\r",
      "[###                 ] (25 samples)\t label : Colin_Powell \t\t\r",
      "[###                 ] (26 samples)\t label : Colin_Powell \t\t\r",
      "[###                 ] (27 samples)\t label : Colin_Powell \t\t\r",
      "[####                ] (28 samples)\t label : Colin_Powell \t\t\r",
      "[####                ] (29 samples)\t label : Colin_Powell \t\t\r",
      "[####                ] (30 samples)\t label : Colin_Powell \t\t\r",
      "[####                ] (31 samples)\t label : Colin_Powell \t\t\r",
      "[####                ] (32 samples)\t label : Colin_Powell \t\t\r",
      "[####                ] (33 samples)\t label : Colin_Powell \t\t\r",
      "[####                ] (34 samples)\t label : Colin_Powell \t\t\r",
      "[#####               ] (35 samples)\t label : Colin_Powell \t\t\r",
      "[#####               ] (36 samples)\t label : Colin_Powell \t\t\r",
      "[#####               ] (37 samples)\t label : Colin_Powell \t\t\r",
      "[#####               ] (38 samples)\t label : Colin_Powell \t\t\r",
      "[#####               ] (39 samples)\t label : Colin_Powell \t\t\r",
      "[#####               ] (40 samples)\t label : Colin_Powell \t\t\r",
      "[#####               ] (41 samples)\t label : Colin_Powell \t\t\r",
      "[#####               ] (42 samples)\t label : Colin_Powell \t\t\r",
      "[######              ] (43 samples)\t label : Colin_Powell \t\t\r",
      "[######              ] (44 samples)\t label : Colin_Powell \t\t\r",
      "[######              ] (45 samples)\t label : Colin_Powell \t\t\r",
      "[######              ] (46 samples)\t label : Colin_Powell \t\t\r",
      "[######              ] (47 samples)\t label : Colin_Powell \t\t\r",
      "[######              ] (48 samples)\t label : Colin_Powell \t\t\r",
      "[######              ] (49 samples)\t label : Colin_Powell \t\t\r",
      "[#######             ] (50 samples)\t label : Colin_Powell \t\t\r",
      "[#######             ] (51 samples)\t label : Colin_Powell \t\t\r",
      "[#######             ] (52 samples)\t label : Colin_Powell \t\t\r",
      "[#######             ] (53 samples)\t label : Colin_Powell \t\t\r",
      "[#######             ] (54 samples)\t label : Colin_Powell \t\t\r",
      "[#######             ] (55 samples)\t label : Colin_Powell \t\t\r",
      "[#######             ] (56 samples)\t label : Colin_Powell \t\t\r",
      "[#######             ] (57 samples)\t label : Colin_Powell \t\t\r",
      "[########            ] (58 samples)\t label : Colin_Powell \t\t\r",
      "[########            ] (59 samples)\t label : Colin_Powell \t\t\r",
      "[########            ] (60 samples)\t label : Colin_Powell \t\t\r",
      "[########            ] (61 samples)\t label : Colin_Powell \t\t\r",
      "[########            ] (62 samples)\t label : Colin_Powell \t\t\r",
      "[########            ] (63 samples)\t label : Colin_Powell \t\t\r",
      "[########            ] (64 samples)\t label : Colin_Powell \t\t\r",
      "[#########           ] (65 samples)\t label : Colin_Powell \t\t\r",
      "[#########           ] (66 samples)\t label : Colin_Powell \t\t\r",
      "[#########           ] (67 samples)\t label : Colin_Powell \t\t\r",
      "[#########           ] (68 samples)\t label : Colin_Powell \t\t\r",
      "[#########           ] (69 samples)\t label : Colin_Powell \t\t\r",
      "[#########           ] (70 samples)\t label : Colin_Powell \t\t\r",
      "[#########           ] (71 samples)\t label : Colin_Powell \t\t\r",
      "[#########           ] (72 samples)\t label : Colin_Powell \t\t\r",
      "[##########          ] (73 samples)\t label : Colin_Powell \t\t\r",
      "[##########          ] (74 samples)\t label : Colin_Powell \t\t\r",
      "[##########          ] (75 samples)\t label : Colin_Powell \t\t\r",
      "[##########          ] (76 samples)\t label : Colin_Powell \t\t\r",
      "[##########          ] (77 samples)\t label : Colin_Powell \t\t\r",
      "[##########          ] (78 samples)\t label : Colin_Powell \t\t\r",
      "[##########          ] (79 samples)\t label : Colin_Powell \t\t\r",
      "[###########         ] (80 samples)\t label : Colin_Powell \t\t\r",
      "[###########         ] (81 samples)\t label : Colin_Powell \t\t\r",
      "[###########         ] (82 samples)\t label : Colin_Powell \t\t\r",
      "[###########         ] (83 samples)\t label : Colin_Powell \t\t\r",
      "[###########         ] (84 samples)\t label : Colin_Powell \t\t\r",
      "[###########         ] (85 samples)\t label : Colin_Powell \t\t\r",
      "[###########         ] (86 samples)\t label : Colin_Powell \t\t\r",
      "[###########         ] (87 samples)\t label : Colin_Powell \t\t\r",
      "[############        ] (88 samples)\t label : Colin_Powell \t\t\r",
      "[############        ] (89 samples)\t label : Colin_Powell \t\t\r",
      "[############        ] (90 samples)\t label : Colin_Powell \t\t\r",
      "[############        ] (91 samples)\t label : Colin_Powell \t\t\r",
      "[############        ] (92 samples)\t label : Colin_Powell \t\t\r",
      "[############        ] (93 samples)\t label : Colin_Powell \t\t\r",
      "[############        ] (94 samples)\t label : Colin_Powell \t\t\r",
      "[#############       ] (95 samples)\t label : Colin_Powell \t\t\r",
      "[#############       ] (96 samples)\t label : Colin_Powell \t\t\r",
      "[#############       ] (97 samples)\t label : Colin_Powell \t\t\r",
      "[#############       ] (98 samples)\t label : Colin_Powell \t\t\r",
      "[#############       ] (99 samples)\t label : Colin_Powell \t\t\r",
      "[#############       ] (100 samples)\t label : Colin_Powell \t\t\r",
      "[#############       ] (101 samples)\t label : Colin_Powell \t\t\r",
      "[#############       ] (102 samples)\t label : Colin_Powell \t\t\r",
      "[##############      ] (103 samples)\t label : Colin_Powell \t\t\r",
      "[##############      ] (104 samples)\t label : Colin_Powell \t\t\r",
      "[##############      ] (105 samples)\t label : Colin_Powell \t\t\r",
      "[##############      ] (106 samples)\t label : Colin_Powell \t\t\r",
      "[##############      ] (107 samples)\t label : Colin_Powell \t\t\r",
      "[##############      ] (108 samples)\t label : Colin_Powell \t\t\r",
      "[##############      ] (109 samples)\t label : Colin_Powell \t\t\r",
      "[###############     ] (110 samples)\t label : Colin_Powell \t\t\r",
      "[###############     ] (111 samples)\t label : Colin_Powell \t\t\r",
      "[###############     ] (112 samples)\t label : Colin_Powell \t\t\r",
      "[###############     ] (113 samples)\t label : Colin_Powell \t\t\r",
      "[###############     ] (114 samples)\t label : Colin_Powell \t\t\r",
      "[###############     ] (115 samples)\t label : Colin_Powell \t\t\r",
      "[###############     ] (116 samples)\t label : Colin_Powell \t\t\r",
      "[###############     ] (117 samples)\t label : Colin_Powell \t\t\r",
      "[################    ] (118 samples)\t label : Colin_Powell \t\t\r",
      "[################    ] (119 samples)\t label : Colin_Powell \t\t\r",
      "[################    ] (120 samples)\t label : Colin_Powell \t\t\r",
      "[################    ] (121 samples)\t label : Colin_Powell \t\t\r",
      "[################    ] (122 samples)\t label : Colin_Powell \t\t\r",
      "[################    ] (123 samples)\t label : Colin_Powell \t\t\r",
      "[################    ] (124 samples)\t label : Colin_Powell \t\t\r",
      "[#################   ] (125 samples)\t label : Colin_Powell \t\t\r",
      "[#################   ] (126 samples)\t label : Colin_Powell \t\t\r",
      "[#################   ] (127 samples)\t label : Colin_Powell \t\t\r",
      "[#################   ] (128 samples)\t label : Colin_Powell \t\t\r",
      "[#################   ] (129 samples)\t label : Colin_Powell \t\t\r",
      "[#################   ] (130 samples)\t label : Colin_Powell \t\t\r",
      "[#################   ] (131 samples)\t label : Colin_Powell \t\t\r",
      "[#################   ] (132 samples)\t label : Colin_Powell \t\t\r",
      "[##################  ] (133 samples)\t label : Colin_Powell \t\t\r",
      "[##################  ] (134 samples)\t label : Colin_Powell \t\t\r",
      "[##################  ] (135 samples)\t label : Colin_Powell \t\t\r",
      "[##################  ] (136 samples)\t label : Colin_Powell \t\t\r",
      "[##################  ] (137 samples)\t label : Colin_Powell \t\t\r",
      "[##################  ] (138 samples)\t label : Colin_Powell \t\t\r",
      "[##################  ] (139 samples)\t label : Colin_Powell \t\t\r",
      "[################### ] (140 samples)\t label : Colin_Powell \t\t\r",
      "[################### ] (141 samples)\t label : Colin_Powell \t\t\r",
      "[################### ] (142 samples)\t label : Colin_Powell \t\t\r",
      "[################### ] (143 samples)\t label : Colin_Powell \t\t\r",
      "[################### ] (144 samples)\t label : Colin_Powell \t\t\r",
      "[################### ] (145 samples)\t label : Colin_Powell \t\t\r",
      "[################### ] (146 samples)\t label : Colin_Powell \t\t\r",
      "[################### ] (147 samples)\t label : Colin_Powell \t\t\r",
      "[####################] (148 samples)\t label : Colin_Powell \t\t\r",
      "[####################] (149 samples)\t label : Colin_Powell \t\t\r",
      "[####################] (150 samples)\t label : Colin_Powell \t\t\r\n",
      "[                    ] (2 samples)\t label : Donald_Rumsfeld \t\t\r",
      "[                    ] (3 samples)\t label : Donald_Rumsfeld \t\t\r",
      "[                    ] (4 samples)\t label : Donald_Rumsfeld \t\t\r",
      "[#                   ] (5 samples)\t label : Donald_Rumsfeld \t\t\r",
      "[#                   ] (6 samples)\t label : Donald_Rumsfeld \t\t\r",
      "[#                   ] (7 samples)\t label : Donald_Rumsfeld \t\t\r",
      "[#                   ] (8 samples)\t label : Donald_Rumsfeld \t\t\r",
      "[#                   ] (9 samples)\t label : Donald_Rumsfeld \t\t\r",
      "[#                   ] (10 samples)\t label : Donald_Rumsfeld \t\t\r",
      "[##                  ] (11 samples)\t label : Donald_Rumsfeld \t\t\r",
      "[##                  ] (12 samples)\t label : Donald_Rumsfeld \t\t\r",
      "[##                  ] (13 samples)\t label : Donald_Rumsfeld \t\t\r",
      "[##                  ] (14 samples)\t label : Donald_Rumsfeld \t\t\r",
      "[##                  ] (15 samples)\t label : Donald_Rumsfeld \t\t\r",
      "[##                  ] (16 samples)\t label : Donald_Rumsfeld \t\t\r",
      "[###                 ] (17 samples)\t label : Donald_Rumsfeld \t\t\r",
      "[###                 ] (18 samples)\t label : Donald_Rumsfeld \t\t\r",
      "[###                 ] (19 samples)\t label : Donald_Rumsfeld \t\t\r",
      "[###                 ] (20 samples)\t label : Donald_Rumsfeld \t\t\r",
      "[###                 ] (21 samples)\t label : Donald_Rumsfeld \t\t\r",
      "[###                 ] (22 samples)\t label : Donald_Rumsfeld \t\t\r",
      "[####                ] (23 samples)\t label : Donald_Rumsfeld \t\t\r",
      "[####                ] (24 samples)\t label : Donald_Rumsfeld \t\t\r",
      "[####                ] (25 samples)\t label : Donald_Rumsfeld \t\t\r",
      "[####                ] (26 samples)\t label : Donald_Rumsfeld \t\t\r",
      "[####                ] (27 samples)\t label : Donald_Rumsfeld \t\t\r",
      "[####                ] (28 samples)\t label : Donald_Rumsfeld \t\t\r",
      "[#####               ] (29 samples)\t label : Donald_Rumsfeld \t\t\r",
      "[#####               ] (30 samples)\t label : Donald_Rumsfeld \t\t\r",
      "[#####               ] (31 samples)\t label : Donald_Rumsfeld \t\t\r",
      "[#####               ] (32 samples)\t label : Donald_Rumsfeld \t\t\r",
      "[#####               ] (33 samples)\t label : Donald_Rumsfeld \t\t\r",
      "[#####               ] (34 samples)\t label : Donald_Rumsfeld \t\t\r",
      "[######              ] (35 samples)\t label : Donald_Rumsfeld \t\t\r",
      "[######              ] (36 samples)\t label : Donald_Rumsfeld \t\t\r",
      "[######              ] (37 samples)\t label : Donald_Rumsfeld \t\t\r",
      "[######              ] (38 samples)\t label : Donald_Rumsfeld \t\t\r",
      "[######              ] (39 samples)\t label : Donald_Rumsfeld \t\t\r",
      "[######              ] (40 samples)\t label : Donald_Rumsfeld \t\t\r",
      "[#######             ] (41 samples)\t label : Donald_Rumsfeld \t\t\r",
      "[#######             ] (42 samples)\t label : Donald_Rumsfeld \t\t\r",
      "[#######             ] (43 samples)\t label : Donald_Rumsfeld \t\t\r",
      "[#######             ] (44 samples)\t label : Donald_Rumsfeld \t\t\r",
      "[#######             ] (45 samples)\t label : Donald_Rumsfeld \t\t\r",
      "[#######             ] (46 samples)\t label : Donald_Rumsfeld \t\t\r",
      "[########            ] (47 samples)\t label : Donald_Rumsfeld \t\t\r",
      "[########            ] (48 samples)\t label : Donald_Rumsfeld \t\t\r",
      "[########            ] (49 samples)\t label : Donald_Rumsfeld \t\t\r",
      "[########            ] (50 samples)\t label : Donald_Rumsfeld \t\t\r",
      "[########            ] (51 samples)\t label : Donald_Rumsfeld \t\t\r",
      "[########            ] (52 samples)\t label : Donald_Rumsfeld \t\t\r",
      "[#########           ] (53 samples)\t label : Donald_Rumsfeld \t\t\r",
      "[#########           ] (54 samples)\t label : Donald_Rumsfeld \t\t\r",
      "[#########           ] (55 samples)\t label : Donald_Rumsfeld \t\t\r",
      "[#########           ] (56 samples)\t label : Donald_Rumsfeld \t\t\r",
      "[#########           ] (57 samples)\t label : Donald_Rumsfeld \t\t\r",
      "[#########           ] (58 samples)\t label : Donald_Rumsfeld \t\t\r",
      "[##########          ] (59 samples)\t label : Donald_Rumsfeld \t\t\r",
      "[##########          ] (60 samples)\t label : Donald_Rumsfeld \t\t\r",
      "[##########          ] (61 samples)\t label : Donald_Rumsfeld \t\t\r",
      "[##########          ] (62 samples)\t label : Donald_Rumsfeld \t\t\r",
      "[##########          ] (63 samples)\t label : Donald_Rumsfeld \t\t\r",
      "[##########          ] (64 samples)\t label : Donald_Rumsfeld \t\t\r",
      "[###########         ] (65 samples)\t label : Donald_Rumsfeld \t\t\r",
      "[###########         ] (66 samples)\t label : Donald_Rumsfeld \t\t\r",
      "[###########         ] (67 samples)\t label : Donald_Rumsfeld \t\t\r",
      "[###########         ] (68 samples)\t label : Donald_Rumsfeld \t\t\r",
      "[###########         ] (69 samples)\t label : Donald_Rumsfeld \t\t\r",
      "[###########         ] (70 samples)\t label : Donald_Rumsfeld \t\t\r",
      "[############        ] (71 samples)\t label : Donald_Rumsfeld \t\t\r",
      "[############        ] (72 samples)\t label : Donald_Rumsfeld \t\t\r",
      "[############        ] (73 samples)\t label : Donald_Rumsfeld \t\t\r",
      "[############        ] (74 samples)\t label : Donald_Rumsfeld \t\t\r",
      "[############        ] (75 samples)\t label : Donald_Rumsfeld \t\t\r",
      "[############        ] (76 samples)\t label : Donald_Rumsfeld \t\t\r",
      "[#############       ] (77 samples)\t label : Donald_Rumsfeld \t\t\r",
      "[#############       ] (78 samples)\t label : Donald_Rumsfeld \t\t\r",
      "[#############       ] (79 samples)\t label : Donald_Rumsfeld \t\t\r",
      "[#############       ] (80 samples)\t label : Donald_Rumsfeld \t\t\r",
      "[#############       ] (81 samples)\t label : Donald_Rumsfeld \t\t\r",
      "[#############       ] (82 samples)\t label : Donald_Rumsfeld \t\t\r",
      "[##############      ] (83 samples)\t label : Donald_Rumsfeld \t\t\r",
      "[##############      ] (84 samples)\t label : Donald_Rumsfeld \t\t\r",
      "[##############      ] (85 samples)\t label : Donald_Rumsfeld \t\t\r",
      "[##############      ] (86 samples)\t label : Donald_Rumsfeld \t\t\r",
      "[##############      ] (87 samples)\t label : Donald_Rumsfeld \t\t\r",
      "[##############      ] (88 samples)\t label : Donald_Rumsfeld \t\t\r",
      "[###############     ] (89 samples)\t label : Donald_Rumsfeld \t\t\r",
      "[###############     ] (90 samples)\t label : Donald_Rumsfeld \t\t\r",
      "[###############     ] (91 samples)\t label : Donald_Rumsfeld \t\t\r",
      "[###############     ] (92 samples)\t label : Donald_Rumsfeld \t\t\r",
      "[###############     ] (93 samples)\t label : Donald_Rumsfeld \t\t\r",
      "[###############     ] (94 samples)\t label : Donald_Rumsfeld \t\t\r",
      "[################    ] (95 samples)\t label : Donald_Rumsfeld \t\t\r",
      "[################    ] (96 samples)\t label : Donald_Rumsfeld \t\t\r",
      "[################    ] (97 samples)\t label : Donald_Rumsfeld \t\t\r",
      "[################    ] (98 samples)\t label : Donald_Rumsfeld \t\t\r",
      "[################    ] (99 samples)\t label : Donald_Rumsfeld \t\t\r",
      "[################    ] (100 samples)\t label : Donald_Rumsfeld \t\t\r",
      "[#################   ] (101 samples)\t label : Donald_Rumsfeld \t\t\r",
      "[#################   ] (102 samples)\t label : Donald_Rumsfeld \t\t\r",
      "[#################   ] (103 samples)\t label : Donald_Rumsfeld \t\t\r",
      "[#################   ] (104 samples)\t label : Donald_Rumsfeld \t\t\r",
      "[#################   ] (105 samples)\t label : Donald_Rumsfeld \t\t\r",
      "[#################   ] (106 samples)\t label : Donald_Rumsfeld \t\t\r",
      "[##################  ] (107 samples)\t label : Donald_Rumsfeld \t\t\r",
      "[##################  ] (108 samples)\t label : Donald_Rumsfeld \t\t\r",
      "[##################  ] (109 samples)\t label : Donald_Rumsfeld \t\t\r",
      "[##################  ] (110 samples)\t label : Donald_Rumsfeld \t\t\r",
      "[##################  ] (111 samples)\t label : Donald_Rumsfeld \t\t\r",
      "[##################  ] (112 samples)\t label : Donald_Rumsfeld \t\t\r",
      "[################### ] (113 samples)\t label : Donald_Rumsfeld \t\t\r",
      "[################### ] (114 samples)\t label : Donald_Rumsfeld \t\t\r",
      "[################### ] (115 samples)\t label : Donald_Rumsfeld \t\t\r",
      "[################### ] (116 samples)\t label : Donald_Rumsfeld \t\t\r",
      "[################### ] (117 samples)\t label : Donald_Rumsfeld \t\t\r",
      "[################### ] (118 samples)\t label : Donald_Rumsfeld \t\t\r",
      "[####################] (119 samples)\t label : Donald_Rumsfeld \t\t\r",
      "[####################] (120 samples)\t label : Donald_Rumsfeld \t\t\r",
      "[####################] (121 samples)\t label : Donald_Rumsfeld \t\t\r\n"
     ]
    },
    {
     "name": "stdout",
     "output_type": "stream",
     "text": [
      "[                    ] (2 samples)\t label : George_W_Bush \t\t\r",
      "[                    ] (3 samples)\t label : George_W_Bush \t\t\r",
      "[                    ] (4 samples)\t label : George_W_Bush \t\t\r",
      "[#                   ] (5 samples)\t label : George_W_Bush \t\t\r",
      "[#                   ] (6 samples)\t label : George_W_Bush \t\t\r",
      "[#                   ] (7 samples)\t label : George_W_Bush \t\t\r",
      "[#                   ] (8 samples)\t label : George_W_Bush \t\t\r",
      "[#                   ] (9 samples)\t label : George_W_Bush \t\t\r",
      "[#                   ] (10 samples)\t label : George_W_Bush \t\t\r",
      "[#                   ] (11 samples)\t label : George_W_Bush \t\t\r",
      "[#                   ] (12 samples)\t label : George_W_Bush \t\t\r",
      "[##                  ] (13 samples)\t label : George_W_Bush \t\t\r",
      "[##                  ] (14 samples)\t label : George_W_Bush \t\t\r",
      "[##                  ] (15 samples)\t label : George_W_Bush \t\t\r",
      "[##                  ] (16 samples)\t label : George_W_Bush \t\t\r",
      "[##                  ] (17 samples)\t label : George_W_Bush \t\t\r",
      "[##                  ] (18 samples)\t label : George_W_Bush \t\t\r",
      "[##                  ] (19 samples)\t label : George_W_Bush \t\t\r",
      "[###                 ] (20 samples)\t label : George_W_Bush \t\t\r",
      "[###                 ] (21 samples)\t label : George_W_Bush \t\t\r",
      "[###                 ] (22 samples)\t label : George_W_Bush \t\t\r",
      "[###                 ] (23 samples)\t label : George_W_Bush \t\t\r",
      "[###                 ] (24 samples)\t label : George_W_Bush \t\t\r",
      "[###                 ] (25 samples)\t label : George_W_Bush \t\t\r",
      "[###                 ] (26 samples)\t label : George_W_Bush \t\t\r",
      "[###                 ] (27 samples)\t label : George_W_Bush \t\t\r",
      "[####                ] (28 samples)\t label : George_W_Bush \t\t\r",
      "[####                ] (29 samples)\t label : George_W_Bush \t\t\r",
      "[####                ] (30 samples)\t label : George_W_Bush \t\t\r",
      "[####                ] (31 samples)\t label : George_W_Bush \t\t\r",
      "[####                ] (32 samples)\t label : George_W_Bush \t\t\r",
      "[####                ] (33 samples)\t label : George_W_Bush \t\t\r",
      "[####                ] (34 samples)\t label : George_W_Bush \t\t\r",
      "[#####               ] (35 samples)\t label : George_W_Bush \t\t\r",
      "[#####               ] (36 samples)\t label : George_W_Bush \t\t\r",
      "[#####               ] (37 samples)\t label : George_W_Bush \t\t\r",
      "[#####               ] (38 samples)\t label : George_W_Bush \t\t\r",
      "[#####               ] (39 samples)\t label : George_W_Bush \t\t\r",
      "[#####               ] (40 samples)\t label : George_W_Bush \t\t\r",
      "[#####               ] (41 samples)\t label : George_W_Bush \t\t\r",
      "[#####               ] (42 samples)\t label : George_W_Bush \t\t\r",
      "[######              ] (43 samples)\t label : George_W_Bush \t\t\r",
      "[######              ] (44 samples)\t label : George_W_Bush \t\t\r",
      "[######              ] (45 samples)\t label : George_W_Bush \t\t\r",
      "[######              ] (46 samples)\t label : George_W_Bush \t\t\r",
      "[######              ] (47 samples)\t label : George_W_Bush \t\t\r",
      "[######              ] (48 samples)\t label : George_W_Bush \t\t\r",
      "[######              ] (49 samples)\t label : George_W_Bush \t\t\r",
      "[#######             ] (50 samples)\t label : George_W_Bush \t\t\r",
      "[#######             ] (51 samples)\t label : George_W_Bush \t\t\r",
      "[#######             ] (52 samples)\t label : George_W_Bush \t\t\r",
      "[#######             ] (53 samples)\t label : George_W_Bush \t\t\r",
      "[#######             ] (54 samples)\t label : George_W_Bush \t\t\r",
      "[#######             ] (55 samples)\t label : George_W_Bush \t\t\r",
      "[#######             ] (56 samples)\t label : George_W_Bush \t\t\r",
      "[#######             ] (57 samples)\t label : George_W_Bush \t\t\r",
      "[########            ] (58 samples)\t label : George_W_Bush \t\t\r",
      "[########            ] (59 samples)\t label : George_W_Bush \t\t\r",
      "[########            ] (60 samples)\t label : George_W_Bush \t\t\r",
      "[########            ] (61 samples)\t label : George_W_Bush \t\t\r",
      "[########            ] (62 samples)\t label : George_W_Bush \t\t\r",
      "[########            ] (63 samples)\t label : George_W_Bush \t\t\r",
      "[########            ] (64 samples)\t label : George_W_Bush \t\t\r",
      "[#########           ] (65 samples)\t label : George_W_Bush \t\t\r",
      "[#########           ] (66 samples)\t label : George_W_Bush \t\t\r",
      "[#########           ] (67 samples)\t label : George_W_Bush \t\t\r",
      "[#########           ] (68 samples)\t label : George_W_Bush \t\t\r",
      "[#########           ] (69 samples)\t label : George_W_Bush \t\t\r",
      "[#########           ] (70 samples)\t label : George_W_Bush \t\t\r",
      "[#########           ] (71 samples)\t label : George_W_Bush \t\t\r",
      "[#########           ] (72 samples)\t label : George_W_Bush \t\t\r",
      "[##########          ] (73 samples)\t label : George_W_Bush \t\t\r",
      "[##########          ] (74 samples)\t label : George_W_Bush \t\t\r",
      "[##########          ] (75 samples)\t label : George_W_Bush \t\t\r",
      "[##########          ] (76 samples)\t label : George_W_Bush \t\t\r",
      "[##########          ] (77 samples)\t label : George_W_Bush \t\t\r",
      "[##########          ] (78 samples)\t label : George_W_Bush \t\t\r",
      "[##########          ] (79 samples)\t label : George_W_Bush \t\t\r",
      "[###########         ] (80 samples)\t label : George_W_Bush \t\t\r",
      "[###########         ] (81 samples)\t label : George_W_Bush \t\t\r",
      "[###########         ] (82 samples)\t label : George_W_Bush \t\t\r",
      "[###########         ] (83 samples)\t label : George_W_Bush \t\t\r",
      "[###########         ] (84 samples)\t label : George_W_Bush \t\t\r",
      "[###########         ] (85 samples)\t label : George_W_Bush \t\t\r",
      "[###########         ] (86 samples)\t label : George_W_Bush \t\t\r",
      "[###########         ] (87 samples)\t label : George_W_Bush \t\t\r",
      "[############        ] (88 samples)\t label : George_W_Bush \t\t\r",
      "[############        ] (89 samples)\t label : George_W_Bush \t\t\r",
      "[############        ] (90 samples)\t label : George_W_Bush \t\t\r",
      "[############        ] (91 samples)\t label : George_W_Bush \t\t\r",
      "[############        ] (92 samples)\t label : George_W_Bush \t\t\r",
      "[############        ] (93 samples)\t label : George_W_Bush \t\t\r",
      "[############        ] (94 samples)\t label : George_W_Bush \t\t\r",
      "[#############       ] (95 samples)\t label : George_W_Bush \t\t\r",
      "[#############       ] (96 samples)\t label : George_W_Bush \t\t\r",
      "[#############       ] (97 samples)\t label : George_W_Bush \t\t\r",
      "[#############       ] (98 samples)\t label : George_W_Bush \t\t\r",
      "[#############       ] (99 samples)\t label : George_W_Bush \t\t\r",
      "[#############       ] (100 samples)\t label : George_W_Bush \t\t\r",
      "[#############       ] (101 samples)\t label : George_W_Bush \t\t\r",
      "[#############       ] (102 samples)\t label : George_W_Bush \t\t\r",
      "[##############      ] (103 samples)\t label : George_W_Bush \t\t\r",
      "[##############      ] (104 samples)\t label : George_W_Bush \t\t\r",
      "[##############      ] (105 samples)\t label : George_W_Bush \t\t\r",
      "[##############      ] (106 samples)\t label : George_W_Bush \t\t\r",
      "[##############      ] (107 samples)\t label : George_W_Bush \t\t\r",
      "[##############      ] (108 samples)\t label : George_W_Bush \t\t\r",
      "[##############      ] (109 samples)\t label : George_W_Bush \t\t\r",
      "[###############     ] (110 samples)\t label : George_W_Bush \t\t\r",
      "[###############     ] (111 samples)\t label : George_W_Bush \t\t\r",
      "[###############     ] (112 samples)\t label : George_W_Bush \t\t\r",
      "[###############     ] (113 samples)\t label : George_W_Bush \t\t\r",
      "[###############     ] (114 samples)\t label : George_W_Bush \t\t\r",
      "[###############     ] (115 samples)\t label : George_W_Bush \t\t\r",
      "[###############     ] (116 samples)\t label : George_W_Bush \t\t\r",
      "[###############     ] (117 samples)\t label : George_W_Bush \t\t\r",
      "[################    ] (118 samples)\t label : George_W_Bush \t\t\r",
      "[################    ] (119 samples)\t label : George_W_Bush \t\t\r",
      "[################    ] (120 samples)\t label : George_W_Bush \t\t\r",
      "[################    ] (121 samples)\t label : George_W_Bush \t\t\r",
      "[################    ] (122 samples)\t label : George_W_Bush \t\t\r",
      "[################    ] (123 samples)\t label : George_W_Bush \t\t\r",
      "[################    ] (124 samples)\t label : George_W_Bush \t\t\r",
      "[#################   ] (125 samples)\t label : George_W_Bush \t\t\r",
      "[#################   ] (126 samples)\t label : George_W_Bush \t\t\r",
      "[#################   ] (127 samples)\t label : George_W_Bush \t\t\r",
      "[#################   ] (128 samples)\t label : George_W_Bush \t\t\r",
      "[#################   ] (129 samples)\t label : George_W_Bush \t\t\r",
      "[#################   ] (130 samples)\t label : George_W_Bush \t\t\r",
      "[#################   ] (131 samples)\t label : George_W_Bush \t\t\r",
      "[#################   ] (132 samples)\t label : George_W_Bush \t\t\r",
      "[##################  ] (133 samples)\t label : George_W_Bush \t\t\r",
      "[##################  ] (134 samples)\t label : George_W_Bush \t\t\r",
      "[##################  ] (135 samples)\t label : George_W_Bush \t\t\r",
      "[##################  ] (136 samples)\t label : George_W_Bush \t\t\r",
      "[##################  ] (137 samples)\t label : George_W_Bush \t\t\r",
      "[##################  ] (138 samples)\t label : George_W_Bush \t\t\r",
      "[##################  ] (139 samples)\t label : George_W_Bush \t\t\r",
      "[################### ] (140 samples)\t label : George_W_Bush \t\t\r",
      "[################### ] (141 samples)\t label : George_W_Bush \t\t\r",
      "[################### ] (142 samples)\t label : George_W_Bush \t\t\r",
      "[################### ] (143 samples)\t label : George_W_Bush \t\t\r",
      "[################### ] (144 samples)\t label : George_W_Bush \t\t\r",
      "[################### ] (145 samples)\t label : George_W_Bush \t\t\r",
      "[################### ] (146 samples)\t label : George_W_Bush \t\t\r",
      "[################### ] (147 samples)\t label : George_W_Bush \t\t\r",
      "[####################] (148 samples)\t label : George_W_Bush \t\t\r",
      "[####################] (149 samples)\t label : George_W_Bush \t\t\r",
      "[####################] (150 samples)\t label : George_W_Bush \t\t\r\n",
      "[                    ] (2 samples)\t label : Gerhard_Schroeder \t\t\r",
      "[                    ] (3 samples)\t label : Gerhard_Schroeder \t\t\r",
      "[#                   ] (4 samples)\t label : Gerhard_Schroeder \t\t\r",
      "[#                   ] (5 samples)\t label : Gerhard_Schroeder \t\t\r",
      "[#                   ] (6 samples)\t label : Gerhard_Schroeder \t\t\r",
      "[#                   ] (7 samples)\t label : Gerhard_Schroeder \t\t\r",
      "[#                   ] (8 samples)\t label : Gerhard_Schroeder \t\t\r",
      "[#                   ] (9 samples)\t label : Gerhard_Schroeder \t\t\r",
      "[##                  ] (10 samples)\t label : Gerhard_Schroeder \t\t\r",
      "[##                  ] (11 samples)\t label : Gerhard_Schroeder \t\t\r",
      "[##                  ] (12 samples)\t label : Gerhard_Schroeder \t\t\r",
      "[##                  ] (13 samples)\t label : Gerhard_Schroeder \t\t\r",
      "[##                  ] (14 samples)\t label : Gerhard_Schroeder \t\t\r",
      "[###                 ] (15 samples)\t label : Gerhard_Schroeder \t\t\r",
      "[###                 ] (16 samples)\t label : Gerhard_Schroeder \t\t\r",
      "[###                 ] (17 samples)\t label : Gerhard_Schroeder \t\t\r",
      "[###                 ] (18 samples)\t label : Gerhard_Schroeder \t\t\r",
      "[###                 ] (19 samples)\t label : Gerhard_Schroeder \t\t\r",
      "[###                 ] (20 samples)\t label : Gerhard_Schroeder \t\t\r",
      "[####                ] (21 samples)\t label : Gerhard_Schroeder \t\t\r",
      "[####                ] (22 samples)\t label : Gerhard_Schroeder \t\t\r",
      "[####                ] (23 samples)\t label : Gerhard_Schroeder \t\t\r",
      "[####                ] (24 samples)\t label : Gerhard_Schroeder \t\t\r",
      "[####                ] (25 samples)\t label : Gerhard_Schroeder \t\t\r",
      "[#####               ] (26 samples)\t label : Gerhard_Schroeder \t\t\r",
      "[#####               ] (27 samples)\t label : Gerhard_Schroeder \t\t\r",
      "[#####               ] (28 samples)\t label : Gerhard_Schroeder \t\t\r",
      "[#####               ] (29 samples)\t label : Gerhard_Schroeder \t\t\r",
      "[#####               ] (30 samples)\t label : Gerhard_Schroeder \t\t\r",
      "[######              ] (31 samples)\t label : Gerhard_Schroeder \t\t\r",
      "[######              ] (32 samples)\t label : Gerhard_Schroeder \t\t\r",
      "[######              ] (33 samples)\t label : Gerhard_Schroeder \t\t\r",
      "[######              ] (34 samples)\t label : Gerhard_Schroeder \t\t\r",
      "[######              ] (35 samples)\t label : Gerhard_Schroeder \t\t\r",
      "[######              ] (36 samples)\t label : Gerhard_Schroeder \t\t\r",
      "[#######             ] (37 samples)\t label : Gerhard_Schroeder \t\t\r",
      "[#######             ] (38 samples)\t label : Gerhard_Schroeder \t\t\r",
      "[#######             ] (39 samples)\t label : Gerhard_Schroeder \t\t\r",
      "[#######             ] (40 samples)\t label : Gerhard_Schroeder \t\t\r",
      "[#######             ] (41 samples)\t label : Gerhard_Schroeder \t\t\r",
      "[########            ] (42 samples)\t label : Gerhard_Schroeder \t\t\r",
      "[########            ] (43 samples)\t label : Gerhard_Schroeder \t\t\r",
      "[########            ] (44 samples)\t label : Gerhard_Schroeder \t\t\r",
      "[########            ] (45 samples)\t label : Gerhard_Schroeder \t\t\r",
      "[########            ] (46 samples)\t label : Gerhard_Schroeder \t\t\r",
      "[########            ] (47 samples)\t label : Gerhard_Schroeder \t\t\r",
      "[#########           ] (48 samples)\t label : Gerhard_Schroeder \t\t\r",
      "[#########           ] (49 samples)\t label : Gerhard_Schroeder \t\t\r",
      "[#########           ] (50 samples)\t label : Gerhard_Schroeder \t\t\r",
      "[#########           ] (51 samples)\t label : Gerhard_Schroeder \t\t\r",
      "[#########           ] (52 samples)\t label : Gerhard_Schroeder \t\t\r",
      "[##########          ] (53 samples)\t label : Gerhard_Schroeder \t\t\r",
      "[##########          ] (54 samples)\t label : Gerhard_Schroeder \t\t\r",
      "[##########          ] (55 samples)\t label : Gerhard_Schroeder \t\t\r",
      "[##########          ] (56 samples)\t label : Gerhard_Schroeder \t\t\r",
      "[##########          ] (57 samples)\t label : Gerhard_Schroeder \t\t\r",
      "[##########          ] (58 samples)\t label : Gerhard_Schroeder \t\t\r",
      "[###########         ] (59 samples)\t label : Gerhard_Schroeder \t\t\r",
      "[###########         ] (60 samples)\t label : Gerhard_Schroeder \t\t\r",
      "[###########         ] (61 samples)\t label : Gerhard_Schroeder \t\t\r",
      "[###########         ] (62 samples)\t label : Gerhard_Schroeder \t\t\r",
      "[###########         ] (63 samples)\t label : Gerhard_Schroeder \t\t\r",
      "[############        ] (64 samples)\t label : Gerhard_Schroeder \t\t\r",
      "[############        ] (65 samples)\t label : Gerhard_Schroeder \t\t\r",
      "[############        ] (66 samples)\t label : Gerhard_Schroeder \t\t\r",
      "[############        ] (67 samples)\t label : Gerhard_Schroeder \t\t\r",
      "[############        ] (68 samples)\t label : Gerhard_Schroeder \t\t\r",
      "[############        ] (69 samples)\t label : Gerhard_Schroeder \t\t\r",
      "[#############       ] (70 samples)\t label : Gerhard_Schroeder \t\t\r",
      "[#############       ] (71 samples)\t label : Gerhard_Schroeder \t\t\r",
      "[#############       ] (72 samples)\t label : Gerhard_Schroeder \t\t\r",
      "[#############       ] (73 samples)\t label : Gerhard_Schroeder \t\t\r",
      "[#############       ] (74 samples)\t label : Gerhard_Schroeder \t\t\r",
      "[##############      ] (75 samples)\t label : Gerhard_Schroeder \t\t\r",
      "[##############      ] (76 samples)\t label : Gerhard_Schroeder \t\t\r",
      "[##############      ] (77 samples)\t label : Gerhard_Schroeder \t\t\r",
      "[##############      ] (78 samples)\t label : Gerhard_Schroeder \t\t\r",
      "[##############      ] (79 samples)\t label : Gerhard_Schroeder \t\t\r",
      "[##############      ] (80 samples)\t label : Gerhard_Schroeder \t\t\r",
      "[###############     ] (81 samples)\t label : Gerhard_Schroeder \t\t\r",
      "[###############     ] (82 samples)\t label : Gerhard_Schroeder \t\t\r",
      "[###############     ] (83 samples)\t label : Gerhard_Schroeder \t\t\r",
      "[###############     ] (84 samples)\t label : Gerhard_Schroeder \t\t\r",
      "[###############     ] (85 samples)\t label : Gerhard_Schroeder \t\t\r",
      "[################    ] (86 samples)\t label : Gerhard_Schroeder \t\t\r",
      "[################    ] (87 samples)\t label : Gerhard_Schroeder \t\t\r",
      "[################    ] (88 samples)\t label : Gerhard_Schroeder \t\t\r",
      "[################    ] (89 samples)\t label : Gerhard_Schroeder \t\t\r",
      "[################    ] (90 samples)\t label : Gerhard_Schroeder \t\t\r",
      "[#################   ] (91 samples)\t label : Gerhard_Schroeder \t\t\r",
      "[#################   ] (92 samples)\t label : Gerhard_Schroeder \t\t\r",
      "[#################   ] (93 samples)\t label : Gerhard_Schroeder \t\t\r",
      "[#################   ] (94 samples)\t label : Gerhard_Schroeder \t\t\r",
      "[#################   ] (95 samples)\t label : Gerhard_Schroeder \t\t\r",
      "[#################   ] (96 samples)\t label : Gerhard_Schroeder \t\t\r",
      "[##################  ] (97 samples)\t label : Gerhard_Schroeder \t\t\r",
      "[##################  ] (98 samples)\t label : Gerhard_Schroeder \t\t\r",
      "[##################  ] (99 samples)\t label : Gerhard_Schroeder \t\t\r",
      "[##################  ] (100 samples)\t label : Gerhard_Schroeder \t\t\r",
      "[##################  ] (101 samples)\t label : Gerhard_Schroeder \t\t\r",
      "[################### ] (102 samples)\t label : Gerhard_Schroeder \t\t\r",
      "[################### ] (103 samples)\t label : Gerhard_Schroeder \t\t\r",
      "[################### ] (104 samples)\t label : Gerhard_Schroeder \t\t\r",
      "[################### ] (105 samples)\t label : Gerhard_Schroeder \t\t\r",
      "[################### ] (106 samples)\t label : Gerhard_Schroeder \t\t\r",
      "[################### ] (107 samples)\t label : Gerhard_Schroeder \t\t\r",
      "[####################] (108 samples)\t label : Gerhard_Schroeder \t\t\r",
      "[####################] (109 samples)\t label : Gerhard_Schroeder \t\t\r\n"
     ]
    },
    {
     "name": "stdout",
     "output_type": "stream",
     "text": [
      "[                    ] (2 samples)\t label : Hugo_Chavez \t\t\r",
      "[#                   ] (3 samples)\t label : Hugo_Chavez \t\t\r",
      "[#                   ] (4 samples)\t label : Hugo_Chavez \t\t\r",
      "[#                   ] (5 samples)\t label : Hugo_Chavez \t\t\r",
      "[#                   ] (6 samples)\t label : Hugo_Chavez \t\t\r",
      "[##                  ] (7 samples)\t label : Hugo_Chavez \t\t\r",
      "[##                  ] (8 samples)\t label : Hugo_Chavez \t\t\r",
      "[##                  ] (9 samples)\t label : Hugo_Chavez \t\t\r",
      "[###                 ] (10 samples)\t label : Hugo_Chavez \t\t\r",
      "[###                 ] (11 samples)\t label : Hugo_Chavez \t\t\r",
      "[###                 ] (12 samples)\t label : Hugo_Chavez \t\t\r",
      "[###                 ] (13 samples)\t label : Hugo_Chavez \t\t\r",
      "[####                ] (14 samples)\t label : Hugo_Chavez \t\t\r",
      "[####                ] (15 samples)\t label : Hugo_Chavez \t\t\r",
      "[####                ] (16 samples)\t label : Hugo_Chavez \t\t\r",
      "[#####               ] (17 samples)\t label : Hugo_Chavez \t\t\r",
      "[#####               ] (18 samples)\t label : Hugo_Chavez \t\t\r",
      "[#####               ] (19 samples)\t label : Hugo_Chavez \t\t\r",
      "[#####               ] (20 samples)\t label : Hugo_Chavez \t\t\r",
      "[######              ] (21 samples)\t label : Hugo_Chavez \t\t\r",
      "[######              ] (22 samples)\t label : Hugo_Chavez \t\t\r",
      "[######              ] (23 samples)\t label : Hugo_Chavez \t\t\r",
      "[######              ] (24 samples)\t label : Hugo_Chavez \t\t\r",
      "[#######             ] (25 samples)\t label : Hugo_Chavez \t\t\r",
      "[#######             ] (26 samples)\t label : Hugo_Chavez \t\t\r",
      "[#######             ] (27 samples)\t label : Hugo_Chavez \t\t\r",
      "[########            ] (28 samples)\t label : Hugo_Chavez \t\t\r",
      "[########            ] (29 samples)\t label : Hugo_Chavez \t\t\r",
      "[########            ] (30 samples)\t label : Hugo_Chavez \t\t\r",
      "[########            ] (31 samples)\t label : Hugo_Chavez \t\t\r",
      "[#########           ] (32 samples)\t label : Hugo_Chavez \t\t\r",
      "[#########           ] (33 samples)\t label : Hugo_Chavez \t\t\r",
      "[#########           ] (34 samples)\t label : Hugo_Chavez \t\t\r",
      "[##########          ] (35 samples)\t label : Hugo_Chavez \t\t\r",
      "[##########          ] (36 samples)\t label : Hugo_Chavez \t\t\r",
      "[##########          ] (37 samples)\t label : Hugo_Chavez \t\t\r",
      "[##########          ] (38 samples)\t label : Hugo_Chavez \t\t\r",
      "[###########         ] (39 samples)\t label : Hugo_Chavez \t\t\r",
      "[###########         ] (40 samples)\t label : Hugo_Chavez \t\t\r",
      "[###########         ] (41 samples)\t label : Hugo_Chavez \t\t\r",
      "[############        ] (42 samples)\t label : Hugo_Chavez \t\t\r",
      "[############        ] (43 samples)\t label : Hugo_Chavez \t\t\r",
      "[############        ] (44 samples)\t label : Hugo_Chavez \t\t\r",
      "[############        ] (45 samples)\t label : Hugo_Chavez \t\t\r",
      "[#############       ] (46 samples)\t label : Hugo_Chavez \t\t\r",
      "[#############       ] (47 samples)\t label : Hugo_Chavez \t\t\r",
      "[#############       ] (48 samples)\t label : Hugo_Chavez \t\t\r",
      "[##############      ] (49 samples)\t label : Hugo_Chavez \t\t\r",
      "[##############      ] (50 samples)\t label : Hugo_Chavez \t\t\r",
      "[##############      ] (51 samples)\t label : Hugo_Chavez \t\t\r",
      "[##############      ] (52 samples)\t label : Hugo_Chavez \t\t\r",
      "[###############     ] (53 samples)\t label : Hugo_Chavez \t\t\r",
      "[###############     ] (54 samples)\t label : Hugo_Chavez \t\t\r",
      "[###############     ] (55 samples)\t label : Hugo_Chavez \t\t\r",
      "[###############     ] (56 samples)\t label : Hugo_Chavez \t\t\r",
      "[################    ] (57 samples)\t label : Hugo_Chavez \t\t\r",
      "[################    ] (58 samples)\t label : Hugo_Chavez \t\t\r",
      "[################    ] (59 samples)\t label : Hugo_Chavez \t\t\r",
      "[#################   ] (60 samples)\t label : Hugo_Chavez \t\t\r",
      "[#################   ] (61 samples)\t label : Hugo_Chavez \t\t\r",
      "[#################   ] (62 samples)\t label : Hugo_Chavez \t\t\r",
      "[#################   ] (63 samples)\t label : Hugo_Chavez \t\t\r",
      "[##################  ] (64 samples)\t label : Hugo_Chavez \t\t\r",
      "[##################  ] (65 samples)\t label : Hugo_Chavez \t\t\r",
      "[##################  ] (66 samples)\t label : Hugo_Chavez \t\t\r",
      "[################### ] (67 samples)\t label : Hugo_Chavez \t\t\r",
      "[################### ] (68 samples)\t label : Hugo_Chavez \t\t\r",
      "[################### ] (69 samples)\t label : Hugo_Chavez \t\t\r",
      "[################### ] (70 samples)\t label : Hugo_Chavez \t\t\r",
      "[####################] (71 samples)\t label : Hugo_Chavez \t\t\r\n",
      "[                    ] (2 samples)\t label : Jacques_Chirac \t\t\r",
      "[#                   ] (3 samples)\t label : Jacques_Chirac \t\t\r",
      "[#                   ] (4 samples)\t label : Jacques_Chirac \t\t\r",
      "[##                  ] (5 samples)\t label : Jacques_Chirac \t\t\r",
      "[##                  ] (6 samples)\t label : Jacques_Chirac \t\t\r",
      "[##                  ] (7 samples)\t label : Jacques_Chirac \t\t\r",
      "[###                 ] (8 samples)\t label : Jacques_Chirac \t\t\r",
      "[###                 ] (9 samples)\t label : Jacques_Chirac \t\t\r",
      "[###                 ] (10 samples)\t label : Jacques_Chirac \t\t\r",
      "[####                ] (11 samples)\t label : Jacques_Chirac \t\t\r",
      "[####                ] (12 samples)\t label : Jacques_Chirac \t\t\r",
      "[#####               ] (13 samples)\t label : Jacques_Chirac \t\t\r",
      "[#####               ] (14 samples)\t label : Jacques_Chirac \t\t\r",
      "[#####               ] (15 samples)\t label : Jacques_Chirac \t\t\r",
      "[######              ] (16 samples)\t label : Jacques_Chirac \t\t\r",
      "[######              ] (17 samples)\t label : Jacques_Chirac \t\t\r",
      "[#######             ] (18 samples)\t label : Jacques_Chirac \t\t\r",
      "[#######             ] (19 samples)\t label : Jacques_Chirac \t\t\r",
      "[#######             ] (20 samples)\t label : Jacques_Chirac \t\t\r",
      "[########            ] (21 samples)\t label : Jacques_Chirac \t\t\r",
      "[########            ] (22 samples)\t label : Jacques_Chirac \t\t\r",
      "[########            ] (23 samples)\t label : Jacques_Chirac \t\t\r",
      "[#########           ] (24 samples)\t label : Jacques_Chirac \t\t\r",
      "[#########           ] (25 samples)\t label : Jacques_Chirac \t\t\r",
      "[##########          ] (26 samples)\t label : Jacques_Chirac \t\t\r",
      "[##########          ] (27 samples)\t label : Jacques_Chirac \t\t\r",
      "[##########          ] (28 samples)\t label : Jacques_Chirac \t\t\r",
      "[###########         ] (29 samples)\t label : Jacques_Chirac \t\t\r",
      "[###########         ] (30 samples)\t label : Jacques_Chirac \t\t\r",
      "[############        ] (31 samples)\t label : Jacques_Chirac \t\t\r",
      "[############        ] (32 samples)\t label : Jacques_Chirac \t\t\r",
      "[############        ] (33 samples)\t label : Jacques_Chirac \t\t\r",
      "[#############       ] (34 samples)\t label : Jacques_Chirac \t\t\r",
      "[#############       ] (35 samples)\t label : Jacques_Chirac \t\t\r",
      "[#############       ] (36 samples)\t label : Jacques_Chirac \t\t\r",
      "[##############      ] (37 samples)\t label : Jacques_Chirac \t\t\r",
      "[##############      ] (38 samples)\t label : Jacques_Chirac \t\t\r",
      "[###############     ] (39 samples)\t label : Jacques_Chirac \t\t\r",
      "[###############     ] (40 samples)\t label : Jacques_Chirac \t\t\r",
      "[###############     ] (41 samples)\t label : Jacques_Chirac \t\t\r",
      "[################    ] (42 samples)\t label : Jacques_Chirac \t\t\r",
      "[################    ] (43 samples)\t label : Jacques_Chirac \t\t\r",
      "[#################   ] (44 samples)\t label : Jacques_Chirac \t\t\r",
      "[#################   ] (45 samples)\t label : Jacques_Chirac \t\t\r",
      "[#################   ] (46 samples)\t label : Jacques_Chirac \t\t\r",
      "[##################  ] (47 samples)\t label : Jacques_Chirac \t\t\r",
      "[##################  ] (48 samples)\t label : Jacques_Chirac \t\t\r",
      "[##################  ] (49 samples)\t label : Jacques_Chirac \t\t\r",
      "[################### ] (50 samples)\t label : Jacques_Chirac \t\t\r",
      "[################### ] (51 samples)\t label : Jacques_Chirac \t\t\r",
      "[####################] (52 samples)\t label : Jacques_Chirac \t\t\r\n",
      "[                    ] (2 samples)\t label : Jean_Chretien \t\t\r",
      "[#                   ] (3 samples)\t label : Jean_Chretien \t\t\r",
      "[#                   ] (4 samples)\t label : Jean_Chretien \t\t\r",
      "[#                   ] (5 samples)\t label : Jean_Chretien \t\t\r",
      "[##                  ] (6 samples)\t label : Jean_Chretien \t\t\r",
      "[##                  ] (7 samples)\t label : Jean_Chretien \t\t\r",
      "[###                 ] (8 samples)\t label : Jean_Chretien \t\t\r",
      "[###                 ] (9 samples)\t label : Jean_Chretien \t\t\r",
      "[###                 ] (10 samples)\t label : Jean_Chretien \t\t\r",
      "[####                ] (11 samples)\t label : Jean_Chretien \t\t\r",
      "[####                ] (12 samples)\t label : Jean_Chretien \t\t\r",
      "[####                ] (13 samples)\t label : Jean_Chretien \t\t\r",
      "[#####               ] (14 samples)\t label : Jean_Chretien \t\t\r",
      "[#####               ] (15 samples)\t label : Jean_Chretien \t\t\r",
      "[#####               ] (16 samples)\t label : Jean_Chretien \t\t\r",
      "[######              ] (17 samples)\t label : Jean_Chretien \t\t\r",
      "[######              ] (18 samples)\t label : Jean_Chretien \t\t\r",
      "[#######             ] (19 samples)\t label : Jean_Chretien \t\t\r",
      "[#######             ] (20 samples)\t label : Jean_Chretien \t\t\r",
      "[#######             ] (21 samples)\t label : Jean_Chretien \t\t\r",
      "[########            ] (22 samples)\t label : Jean_Chretien \t\t\r",
      "[########            ] (23 samples)\t label : Jean_Chretien \t\t\r",
      "[########            ] (24 samples)\t label : Jean_Chretien \t\t\r",
      "[#########           ] (25 samples)\t label : Jean_Chretien \t\t\r",
      "[#########           ] (26 samples)\t label : Jean_Chretien \t\t\r",
      "[#########           ] (27 samples)\t label : Jean_Chretien \t\t\r",
      "[##########          ] (28 samples)\t label : Jean_Chretien \t\t\r",
      "[##########          ] (29 samples)\t label : Jean_Chretien \t\t\r",
      "[###########         ] (30 samples)\t label : Jean_Chretien \t\t\r",
      "[###########         ] (31 samples)\t label : Jean_Chretien \t\t\r",
      "[###########         ] (32 samples)\t label : Jean_Chretien \t\t\r",
      "[############        ] (33 samples)\t label : Jean_Chretien \t\t\r",
      "[############        ] (34 samples)\t label : Jean_Chretien \t\t\r",
      "[############        ] (35 samples)\t label : Jean_Chretien \t\t\r",
      "[#############       ] (36 samples)\t label : Jean_Chretien \t\t\r",
      "[#############       ] (37 samples)\t label : Jean_Chretien \t\t\r",
      "[#############       ] (38 samples)\t label : Jean_Chretien \t\t\r",
      "[##############      ] (39 samples)\t label : Jean_Chretien \t\t\r",
      "[##############      ] (40 samples)\t label : Jean_Chretien \t\t\r",
      "[###############     ] (41 samples)\t label : Jean_Chretien \t\t\r",
      "[###############     ] (42 samples)\t label : Jean_Chretien \t\t\r",
      "[###############     ] (43 samples)\t label : Jean_Chretien \t\t\r",
      "[################    ] (44 samples)\t label : Jean_Chretien \t\t\r",
      "[################    ] (45 samples)\t label : Jean_Chretien \t\t\r",
      "[################    ] (46 samples)\t label : Jean_Chretien \t\t\r",
      "[#################   ] (47 samples)\t label : Jean_Chretien \t\t\r",
      "[#################   ] (48 samples)\t label : Jean_Chretien \t\t\r",
      "[#################   ] (49 samples)\t label : Jean_Chretien \t\t\r",
      "[##################  ] (50 samples)\t label : Jean_Chretien \t\t\r",
      "[##################  ] (51 samples)\t label : Jean_Chretien \t\t\r",
      "[################### ] (52 samples)\t label : Jean_Chretien \t\t\r",
      "[################### ] (53 samples)\t label : Jean_Chretien \t\t\r",
      "[################### ] (54 samples)\t label : Jean_Chretien \t\t\r",
      "[####################] (55 samples)\t label : Jean_Chretien \t\t\r\n"
     ]
    },
    {
     "name": "stdout",
     "output_type": "stream",
     "text": [
      "[                    ] (2 samples)\t label : John_Ashcroft \t\t\r",
      "[#                   ] (3 samples)\t label : John_Ashcroft \t\t\r",
      "[#                   ] (4 samples)\t label : John_Ashcroft \t\t\r",
      "[##                  ] (5 samples)\t label : John_Ashcroft \t\t\r",
      "[##                  ] (6 samples)\t label : John_Ashcroft \t\t\r",
      "[##                  ] (7 samples)\t label : John_Ashcroft \t\t\r",
      "[###                 ] (8 samples)\t label : John_Ashcroft \t\t\r",
      "[###                 ] (9 samples)\t label : John_Ashcroft \t\t\r",
      "[###                 ] (10 samples)\t label : John_Ashcroft \t\t\r",
      "[####                ] (11 samples)\t label : John_Ashcroft \t\t\r",
      "[####                ] (12 samples)\t label : John_Ashcroft \t\t\r",
      "[#####               ] (13 samples)\t label : John_Ashcroft \t\t\r",
      "[#####               ] (14 samples)\t label : John_Ashcroft \t\t\r",
      "[#####               ] (15 samples)\t label : John_Ashcroft \t\t\r",
      "[######              ] (16 samples)\t label : John_Ashcroft \t\t\r",
      "[######              ] (17 samples)\t label : John_Ashcroft \t\t\r",
      "[######              ] (18 samples)\t label : John_Ashcroft \t\t\r",
      "[#######             ] (19 samples)\t label : John_Ashcroft \t\t\r",
      "[#######             ] (20 samples)\t label : John_Ashcroft \t\t\r",
      "[########            ] (21 samples)\t label : John_Ashcroft \t\t\r",
      "[########            ] (22 samples)\t label : John_Ashcroft \t\t\r",
      "[########            ] (23 samples)\t label : John_Ashcroft \t\t\r",
      "[#########           ] (24 samples)\t label : John_Ashcroft \t\t\r",
      "[#########           ] (25 samples)\t label : John_Ashcroft \t\t\r",
      "[#########           ] (26 samples)\t label : John_Ashcroft \t\t\r",
      "[##########          ] (27 samples)\t label : John_Ashcroft \t\t\r",
      "[##########          ] (28 samples)\t label : John_Ashcroft \t\t\r",
      "[###########         ] (29 samples)\t label : John_Ashcroft \t\t\r",
      "[###########         ] (30 samples)\t label : John_Ashcroft \t\t\r",
      "[###########         ] (31 samples)\t label : John_Ashcroft \t\t\r",
      "[############        ] (32 samples)\t label : John_Ashcroft \t\t\r",
      "[############        ] (33 samples)\t label : John_Ashcroft \t\t\r",
      "[############        ] (34 samples)\t label : John_Ashcroft \t\t\r",
      "[#############       ] (35 samples)\t label : John_Ashcroft \t\t\r",
      "[#############       ] (36 samples)\t label : John_Ashcroft \t\t\r",
      "[##############      ] (37 samples)\t label : John_Ashcroft \t\t\r",
      "[##############      ] (38 samples)\t label : John_Ashcroft \t\t\r",
      "[##############      ] (39 samples)\t label : John_Ashcroft \t\t\r",
      "[###############     ] (40 samples)\t label : John_Ashcroft \t\t\r",
      "[###############     ] (41 samples)\t label : John_Ashcroft \t\t\r",
      "[###############     ] (42 samples)\t label : John_Ashcroft \t\t\r",
      "[################    ] (43 samples)\t label : John_Ashcroft \t\t\r",
      "[################    ] (44 samples)\t label : John_Ashcroft \t\t\r",
      "[#################   ] (45 samples)\t label : John_Ashcroft \t\t\r",
      "[#################   ] (46 samples)\t label : John_Ashcroft \t\t\r",
      "[#################   ] (47 samples)\t label : John_Ashcroft \t\t\r",
      "[##################  ] (48 samples)\t label : John_Ashcroft \t\t\r",
      "[##################  ] (49 samples)\t label : John_Ashcroft \t\t\r",
      "[##################  ] (50 samples)\t label : John_Ashcroft \t\t\r",
      "[################### ] (51 samples)\t label : John_Ashcroft \t\t\r",
      "[################### ] (52 samples)\t label : John_Ashcroft \t\t\r",
      "[####################] (53 samples)\t label : John_Ashcroft \t\t\r\n",
      "[                    ] (2 samples)\t label : Junichiro_Koizumi \t\t\r",
      "[#                   ] (3 samples)\t label : Junichiro_Koizumi \t\t\r",
      "[#                   ] (4 samples)\t label : Junichiro_Koizumi \t\t\r",
      "[#                   ] (5 samples)\t label : Junichiro_Koizumi \t\t\r",
      "[##                  ] (6 samples)\t label : Junichiro_Koizumi \t\t\r",
      "[##                  ] (7 samples)\t label : Junichiro_Koizumi \t\t\r",
      "[##                  ] (8 samples)\t label : Junichiro_Koizumi \t\t\r",
      "[###                 ] (9 samples)\t label : Junichiro_Koizumi \t\t\r",
      "[###                 ] (10 samples)\t label : Junichiro_Koizumi \t\t\r",
      "[###                 ] (11 samples)\t label : Junichiro_Koizumi \t\t\r",
      "[####                ] (12 samples)\t label : Junichiro_Koizumi \t\t\r",
      "[####                ] (13 samples)\t label : Junichiro_Koizumi \t\t\r",
      "[####                ] (14 samples)\t label : Junichiro_Koizumi \t\t\r",
      "[#####               ] (15 samples)\t label : Junichiro_Koizumi \t\t\r",
      "[#####               ] (16 samples)\t label : Junichiro_Koizumi \t\t\r",
      "[#####               ] (17 samples)\t label : Junichiro_Koizumi \t\t\r",
      "[######              ] (18 samples)\t label : Junichiro_Koizumi \t\t\r",
      "[######              ] (19 samples)\t label : Junichiro_Koizumi \t\t\r",
      "[######              ] (20 samples)\t label : Junichiro_Koizumi \t\t\r",
      "[#######             ] (21 samples)\t label : Junichiro_Koizumi \t\t\r",
      "[#######             ] (22 samples)\t label : Junichiro_Koizumi \t\t\r",
      "[#######             ] (23 samples)\t label : Junichiro_Koizumi \t\t\r",
      "[########            ] (24 samples)\t label : Junichiro_Koizumi \t\t\r",
      "[########            ] (25 samples)\t label : Junichiro_Koizumi \t\t\r",
      "[########            ] (26 samples)\t label : Junichiro_Koizumi \t\t\r",
      "[#########           ] (27 samples)\t label : Junichiro_Koizumi \t\t\r",
      "[#########           ] (28 samples)\t label : Junichiro_Koizumi \t\t\r",
      "[#########           ] (29 samples)\t label : Junichiro_Koizumi \t\t\r",
      "[##########          ] (30 samples)\t label : Junichiro_Koizumi \t\t\r",
      "[##########          ] (31 samples)\t label : Junichiro_Koizumi \t\t\r",
      "[##########          ] (32 samples)\t label : Junichiro_Koizumi \t\t\r",
      "[###########         ] (33 samples)\t label : Junichiro_Koizumi \t\t\r",
      "[###########         ] (34 samples)\t label : Junichiro_Koizumi \t\t\r",
      "[###########         ] (35 samples)\t label : Junichiro_Koizumi \t\t\r",
      "[############        ] (36 samples)\t label : Junichiro_Koizumi \t\t\r",
      "[############        ] (37 samples)\t label : Junichiro_Koizumi \t\t\r",
      "[############        ] (38 samples)\t label : Junichiro_Koizumi \t\t\r",
      "[#############       ] (39 samples)\t label : Junichiro_Koizumi \t\t\r",
      "[#############       ] (40 samples)\t label : Junichiro_Koizumi \t\t\r",
      "[#############       ] (41 samples)\t label : Junichiro_Koizumi \t\t\r",
      "[##############      ] (42 samples)\t label : Junichiro_Koizumi \t\t\r",
      "[##############      ] (43 samples)\t label : Junichiro_Koizumi \t\t\r",
      "[##############      ] (44 samples)\t label : Junichiro_Koizumi \t\t\r",
      "[###############     ] (45 samples)\t label : Junichiro_Koizumi \t\t\r",
      "[###############     ] (46 samples)\t label : Junichiro_Koizumi \t\t\r",
      "[###############     ] (47 samples)\t label : Junichiro_Koizumi \t\t\r",
      "[################    ] (48 samples)\t label : Junichiro_Koizumi \t\t\r",
      "[################    ] (49 samples)\t label : Junichiro_Koizumi \t\t\r",
      "[################    ] (50 samples)\t label : Junichiro_Koizumi \t\t\r",
      "[#################   ] (51 samples)\t label : Junichiro_Koizumi \t\t\r",
      "[#################   ] (52 samples)\t label : Junichiro_Koizumi \t\t\r",
      "[#################   ] (53 samples)\t label : Junichiro_Koizumi \t\t\r",
      "[##################  ] (54 samples)\t label : Junichiro_Koizumi \t\t\r",
      "[##################  ] (55 samples)\t label : Junichiro_Koizumi \t\t\r",
      "[##################  ] (56 samples)\t label : Junichiro_Koizumi \t\t\r",
      "[################### ] (57 samples)\t label : Junichiro_Koizumi \t\t\r",
      "[################### ] (58 samples)\t label : Junichiro_Koizumi \t\t\r",
      "[################### ] (59 samples)\t label : Junichiro_Koizumi \t\t\r",
      "[####################] (60 samples)\t label : Junichiro_Koizumi \t\t\r\n",
      "[                    ] (2 samples)\t label : KeonHee_Jeong \t\t\r",
      "[                    ] (3 samples)\t label : KeonHee_Jeong \t\t\r",
      "[#                   ] (4 samples)\t label : KeonHee_Jeong \t\t\r",
      "[#                   ] (5 samples)\t label : KeonHee_Jeong \t\t\r",
      "[#                   ] (6 samples)\t label : KeonHee_Jeong \t\t\r",
      "[#                   ] (7 samples)\t label : KeonHee_Jeong \t\t\r",
      "[##                  ] (8 samples)\t label : KeonHee_Jeong \t\t\r",
      "[##                  ] (9 samples)\t label : KeonHee_Jeong \t\t\r",
      "[##                  ] (10 samples)\t label : KeonHee_Jeong \t\t\r",
      "[##                  ] (11 samples)\t label : KeonHee_Jeong \t\t\r",
      "[##                  ] (12 samples)\t label : KeonHee_Jeong \t\t\r",
      "[###                 ] (13 samples)\t label : KeonHee_Jeong \t\t\r",
      "[###                 ] (14 samples)\t label : KeonHee_Jeong \t\t\r",
      "[###                 ] (15 samples)\t label : KeonHee_Jeong \t\t\r",
      "[###                 ] (16 samples)\t label : KeonHee_Jeong \t\t\r",
      "[###                 ] (17 samples)\t label : KeonHee_Jeong \t\t\r",
      "[####                ] (18 samples)\t label : KeonHee_Jeong \t\t\r",
      "[####                ] (19 samples)\t label : KeonHee_Jeong \t\t\r",
      "[####                ] (20 samples)\t label : KeonHee_Jeong \t\t\r",
      "[####                ] (21 samples)\t label : KeonHee_Jeong \t\t\r",
      "[#####               ] (22 samples)\t label : KeonHee_Jeong \t\t\r",
      "[#####               ] (23 samples)\t label : KeonHee_Jeong \t\t\r",
      "[#####               ] (24 samples)\t label : KeonHee_Jeong \t\t\r",
      "[#####               ] (25 samples)\t label : KeonHee_Jeong \t\t\r",
      "[#####               ] (26 samples)\t label : KeonHee_Jeong \t\t\r",
      "[######              ] (27 samples)\t label : KeonHee_Jeong \t\t\r",
      "[######              ] (28 samples)\t label : KeonHee_Jeong \t\t\r",
      "[######              ] (29 samples)\t label : KeonHee_Jeong \t\t\r",
      "[######              ] (30 samples)\t label : KeonHee_Jeong \t\t\r",
      "[#######             ] (31 samples)\t label : KeonHee_Jeong \t\t\r",
      "[#######             ] (32 samples)\t label : KeonHee_Jeong \t\t\r",
      "[#######             ] (33 samples)\t label : KeonHee_Jeong \t\t\r",
      "[#######             ] (34 samples)\t label : KeonHee_Jeong \t\t\r",
      "[#######             ] (35 samples)\t label : KeonHee_Jeong \t\t\r",
      "[########            ] (36 samples)\t label : KeonHee_Jeong \t\t\r",
      "[########            ] (37 samples)\t label : KeonHee_Jeong \t\t\r",
      "[########            ] (38 samples)\t label : KeonHee_Jeong \t\t\r",
      "[########            ] (39 samples)\t label : KeonHee_Jeong \t\t\r",
      "[########            ] (40 samples)\t label : KeonHee_Jeong \t\t\r",
      "[#########           ] (41 samples)\t label : KeonHee_Jeong \t\t\r",
      "[#########           ] (42 samples)\t label : KeonHee_Jeong \t\t\r",
      "[#########           ] (43 samples)\t label : KeonHee_Jeong \t\t\r",
      "[#########           ] (44 samples)\t label : KeonHee_Jeong \t\t\r",
      "[##########          ] (45 samples)\t label : KeonHee_Jeong \t\t\r",
      "[##########          ] (46 samples)\t label : KeonHee_Jeong \t\t\r",
      "[##########          ] (47 samples)\t label : KeonHee_Jeong \t\t\r",
      "[##########          ] (48 samples)\t label : KeonHee_Jeong \t\t\r",
      "[##########          ] (49 samples)\t label : KeonHee_Jeong \t\t\r",
      "[###########         ] (50 samples)\t label : KeonHee_Jeong \t\t\r",
      "[###########         ] (51 samples)\t label : KeonHee_Jeong \t\t\r",
      "[###########         ] (52 samples)\t label : KeonHee_Jeong \t\t\r",
      "[###########         ] (53 samples)\t label : KeonHee_Jeong \t\t\r",
      "[############        ] (54 samples)\t label : KeonHee_Jeong \t\t\r",
      "[############        ] (55 samples)\t label : KeonHee_Jeong \t\t\r",
      "[############        ] (56 samples)\t label : KeonHee_Jeong \t\t\r",
      "[############        ] (57 samples)\t label : KeonHee_Jeong \t\t\r",
      "[############        ] (58 samples)\t label : KeonHee_Jeong \t\t\r",
      "[#############       ] (59 samples)\t label : KeonHee_Jeong \t\t\r",
      "[#############       ] (60 samples)\t label : KeonHee_Jeong \t\t\r",
      "[#############       ] (61 samples)\t label : KeonHee_Jeong \t\t\r",
      "[#############       ] (62 samples)\t label : KeonHee_Jeong \t\t\r",
      "[#############       ] (63 samples)\t label : KeonHee_Jeong \t\t\r",
      "[##############      ] (64 samples)\t label : KeonHee_Jeong \t\t\r",
      "[##############      ] (65 samples)\t label : KeonHee_Jeong \t\t\r",
      "[##############      ] (66 samples)\t label : KeonHee_Jeong \t\t\r",
      "[##############      ] (67 samples)\t label : KeonHee_Jeong \t\t\r",
      "[###############     ] (68 samples)\t label : KeonHee_Jeong \t\t\r",
      "[###############     ] (69 samples)\t label : KeonHee_Jeong \t\t\r",
      "[###############     ] (70 samples)\t label : KeonHee_Jeong \t\t\r",
      "[###############     ] (71 samples)\t label : KeonHee_Jeong \t\t\r",
      "[###############     ] (72 samples)\t label : KeonHee_Jeong \t\t\r",
      "[################    ] (73 samples)\t label : KeonHee_Jeong \t\t\r",
      "[################    ] (74 samples)\t label : KeonHee_Jeong \t\t\r",
      "[################    ] (75 samples)\t label : KeonHee_Jeong \t\t\r",
      "[################    ] (76 samples)\t label : KeonHee_Jeong \t\t\r",
      "[#################   ] (77 samples)\t label : KeonHee_Jeong \t\t\r",
      "[#################   ] (78 samples)\t label : KeonHee_Jeong \t\t\r",
      "[#################   ] (79 samples)\t label : KeonHee_Jeong \t\t\r",
      "[#################   ] (80 samples)\t label : KeonHee_Jeong \t\t\r",
      "[#################   ] (81 samples)\t label : KeonHee_Jeong \t\t\r",
      "[##################  ] (82 samples)\t label : KeonHee_Jeong \t\t\r",
      "[##################  ] (83 samples)\t label : KeonHee_Jeong \t\t\r",
      "[##################  ] (84 samples)\t label : KeonHee_Jeong \t\t\r",
      "[##################  ] (85 samples)\t label : KeonHee_Jeong \t\t\r",
      "[##################  ] (86 samples)\t label : KeonHee_Jeong \t\t\r",
      "[################### ] (87 samples)\t label : KeonHee_Jeong \t\t\r",
      "[################### ] (88 samples)\t label : KeonHee_Jeong \t\t\r",
      "[################### ] (89 samples)\t label : KeonHee_Jeong \t\t\r",
      "[################### ] (90 samples)\t label : KeonHee_Jeong \t\t\r",
      "[####################] (91 samples)\t label : KeonHee_Jeong \t\t\r",
      "[####################] (92 samples)\t label : KeonHee_Jeong \t\t\r\n"
     ]
    },
    {
     "name": "stdout",
     "output_type": "stream",
     "text": [
      "[####################] (81 samples)\t label : KyungSoo_Jeong \t\t\n",
      "[####################] (52 samples)\t label : Serena_Williams \t\t\n",
      "[####################] (144 samples)\t label : Tony_Blair \t\t\r"
     ]
    }
   ],
   "source": [
    "names = []\n",
    "images = []\n",
    "for folder in os.listdir(dataset_folder):\n",
    "    files = os.listdir(os.path.join(dataset_folder, folder))[:150]\n",
    "    if len(files) < 50 :\n",
    "        continue\n",
    "    for i, name in enumerate(files): \n",
    "        if name.find(\".jpg\") > -1 :\n",
    "            img = cv2.imread(os.path.join(dataset_folder + folder, name))\n",
    "            img = detect_face(img) # detect face using mtcnn and crop to 100x100\n",
    "            if img is not None :\n",
    "                images.append(img)\n",
    "                names.append(folder)\n",
    "\n",
    "                print_progress(i, len(files), folder)"
   ]
  },
  {
   "cell_type": "code",
   "execution_count": 7,
   "metadata": {
    "ExecuteTime": {
     "end_time": "2022-05-10T17:33:47.712725Z",
     "start_time": "2022-05-10T17:33:47.710723Z"
    }
   },
   "outputs": [
    {
     "name": "stdout",
     "output_type": "stream",
     "text": [
      "number of samples : 1267\n"
     ]
    }
   ],
   "source": [
    "print(\"number of samples :\", len(names))"
   ]
  },
  {
   "cell_type": "markdown",
   "metadata": {},
   "source": [
    "이미지 데이터 늘리기\n",
    "- 적은 이미지 데이터를 늘리기 위해 이미지를 회전 시키거나 옆으로 움직이거나 색을 바꿔 데이터 샘플 수를 늘림."
   ]
  },
  {
   "cell_type": "code",
   "execution_count": 8,
   "metadata": {
    "ExecuteTime": {
     "end_time": "2022-05-10T17:33:47.731742Z",
     "start_time": "2022-05-10T17:33:47.713726Z"
    }
   },
   "outputs": [],
   "source": [
    "def img_augmentation(img):\n",
    "    h, w = img.shape\n",
    "    center = (w // 2, h // 2)\n",
    "    M_rot_5 = cv2.getRotationMatrix2D(center, 5, 1.0)\n",
    "    M_rot_neg_5 = cv2.getRotationMatrix2D(center, -5, 1.0)\n",
    "    M_rot_10 = cv2.getRotationMatrix2D(center, 10, 1.0)\n",
    "    M_rot_neg_10 = cv2.getRotationMatrix2D(center, -10, 1.0)\n",
    "    M_trans_3 = np.float32([[1, 0, 3], [0, 1, 0]])\n",
    "    M_trans_neg_3 = np.float32([[1, 0, -3], [0, 1, 0]])\n",
    "    M_trans_6 = np.float32([[1, 0, 6], [0, 1, 0]])\n",
    "    M_trans_neg_6 = np.float32([[1, 0, -6], [0, 1, 0]])\n",
    "    M_trans_y3 = np.float32([[1, 0, 0], [0, 1, 3]])\n",
    "    M_trans_neg_y3 = np.float32([[1, 0, 0], [0, 1, -3]])\n",
    "    M_trans_y6 = np.float32([[1, 0, 0], [0, 1, 6]])\n",
    "    M_trans_neg_y6 = np.float32([[1, 0, 0], [0, 1, -6]])\n",
    "    \n",
    "    imgs = []\n",
    "    imgs.append(cv2.warpAffine(img, M_rot_5, (w, h), borderValue=(255,255,255)))\n",
    "    imgs.append(cv2.warpAffine(img, M_rot_neg_5, (w, h), borderValue=(255,255,255)))\n",
    "    imgs.append(cv2.warpAffine(img, M_rot_10, (w, h), borderValue=(255,255,255)))\n",
    "    imgs.append(cv2.warpAffine(img, M_rot_neg_10, (w, h), borderValue=(255,255,255)))\n",
    "    imgs.append(cv2.warpAffine(img, M_trans_3, (w, h), borderValue=(255,255,255)))\n",
    "    imgs.append(cv2.warpAffine(img, M_trans_neg_3, (w, h), borderValue=(255,255,255)))\n",
    "    imgs.append(cv2.warpAffine(img, M_trans_6, (w, h), borderValue=(255,255,255)))\n",
    "    imgs.append(cv2.warpAffine(img, M_trans_neg_6, (w, h), borderValue=(255,255,255)))\n",
    "    imgs.append(cv2.warpAffine(img, M_trans_y3, (w, h), borderValue=(255,255,255)))\n",
    "    imgs.append(cv2.warpAffine(img, M_trans_neg_y3, (w, h), borderValue=(255,255,255)))\n",
    "    imgs.append(cv2.warpAffine(img, M_trans_y6, (w, h), borderValue=(255,255,255)))\n",
    "    imgs.append(cv2.warpAffine(img, M_trans_neg_y6, (w, h), borderValue=(255,255,255)))\n",
    "    imgs.append(cv2.add(img, 10))\n",
    "    imgs.append(cv2.add(img, 30))\n",
    "    imgs.append(cv2.add(img, -10))\n",
    "    imgs.append(cv2.add(img, -30)) \n",
    "    imgs.append(cv2.add(img, 15))\n",
    "    imgs.append(cv2.add(img, 45))\n",
    "    imgs.append(cv2.add(img, -15))\n",
    "    imgs.append(cv2.add(img, -45))\n",
    "    \n",
    "    return imgs"
   ]
  },
  {
   "cell_type": "markdown",
   "metadata": {},
   "source": [
    "- 증가된 데이터 출력 테스트"
   ]
  },
  {
   "cell_type": "code",
   "execution_count": 9,
   "metadata": {
    "ExecuteTime": {
     "end_time": "2022-05-10T17:33:54.540393Z",
     "start_time": "2022-05-10T17:33:53.324784Z"
    }
   },
   "outputs": [
    {
     "data": {
      "image/png": "[encoded data removed]",
      "text/plain": [
       "<Figure size 1080x720 with 20 Axes>"
      ]
     },
     "metadata": {
      "needs_background": "light"
     },
     "output_type": "display_data"
    }
   ],
   "source": [
    "img_test = images[1]\n",
    "\n",
    "augmented_image_test = img_augmentation(img_test)\n",
    "\n",
    "plt.figure(figsize=(15,10))\n",
    "for i, img in enumerate(augmented_image_test):\n",
    "    plt.subplot(4,5,i+1)\n",
    "    plt.imshow(img, cmap=\"gray\")\n",
    "plt.show()"
   ]
  },
  {
   "cell_type": "markdown",
   "metadata": {},
   "source": [
    "- 늘린 데이터 적용"
   ]
  },
  {
   "cell_type": "code",
   "execution_count": 10,
   "metadata": {
    "ExecuteTime": {
     "end_time": "2022-05-10T17:33:58.271222Z",
     "start_time": "2022-05-10T17:33:57.932916Z"
    }
   },
   "outputs": [],
   "source": [
    "augmented_images = []\n",
    "augmented_names = []\n",
    "for i, img in enumerate(images):\n",
    "    try :\n",
    "        augmented_images.extend(img_augmentation(img))\n",
    "        augmented_names.extend([names[i]] * 20)\n",
    "    except :\n",
    "        print(i)"
   ]
  },
  {
   "cell_type": "code",
   "execution_count": 11,
   "metadata": {
    "ExecuteTime": {
     "end_time": "2022-05-10T17:33:58.583941Z",
     "start_time": "2022-05-10T17:33:58.581435Z"
    }
   },
   "outputs": [
    {
     "data": {
      "text/plain": [
       "(25340, 25340)"
      ]
     },
     "execution_count": 11,
     "metadata": {},
     "output_type": "execute_result"
    }
   ],
   "source": [
    "len(augmented_images), len(augmented_names)"
   ]
  },
  {
   "cell_type": "code",
   "execution_count": 12,
   "metadata": {
    "ExecuteTime": {
     "end_time": "2022-05-10T17:33:59.519237Z",
     "start_time": "2022-05-10T17:33:59.517235Z"
    }
   },
   "outputs": [],
   "source": [
    "images.extend(augmented_images)\n",
    "names.extend(augmented_names)"
   ]
  },
  {
   "cell_type": "markdown",
   "metadata": {},
   "source": [
    "- 기존 이미지에 늘린 이미지 추가"
   ]
  },
  {
   "cell_type": "code",
   "execution_count": 13,
   "metadata": {
    "ExecuteTime": {
     "end_time": "2022-05-10T17:33:59.967887Z",
     "start_time": "2022-05-10T17:33:59.964884Z"
    }
   },
   "outputs": [
    {
     "data": {
      "text/plain": [
       "(26607, 26607)"
      ]
     },
     "execution_count": 13,
     "metadata": {},
     "output_type": "execute_result"
    }
   ],
   "source": [
    "len(images), len(names)"
   ]
  },
  {
   "cell_type": "code",
   "execution_count": 14,
   "metadata": {
    "ExecuteTime": {
     "end_time": "2022-05-10T17:34:00.232229Z",
     "start_time": "2022-05-10T17:34:00.221220Z"
    }
   },
   "outputs": [
    {
     "name": "stdout",
     "output_type": "stream",
     "text": [
      "('Ariel_Sharon', 1617)\n",
      "('Colin_Powell', 3150)\n",
      "('Donald_Rumsfeld', 2541)\n",
      "('George_W_Bush', 3150)\n",
      "('Gerhard_Schroeder', 2289)\n",
      "('Hugo_Chavez', 1491)\n",
      "('Jacques_Chirac', 1092)\n",
      "('Jean_Chretien', 1155)\n",
      "('John_Ashcroft', 1113)\n",
      "('Junichiro_Koizumi', 1260)\n",
      "('KeonHee_Jeong', 1932)\n",
      "('KyungSoo_Jeong', 1701)\n",
      "('Serena_Williams', 1092)\n",
      "('Tony_Blair', 3024)\n"
     ]
    }
   ],
   "source": [
    "unique, counts = np.unique(names, return_counts = True)\n",
    "\n",
    "for item in zip(unique, counts):\n",
    "    print(item)"
   ]
  },
  {
   "cell_type": "markdown",
   "metadata": {},
   "source": [
    "### 1.1.B Balancing Data"
   ]
  },
  {
   "cell_type": "code",
   "execution_count": 15,
   "metadata": {
    "ExecuteTime": {
     "end_time": "2022-05-10T17:34:10.881991Z",
     "start_time": "2022-05-10T17:34:05.132896Z"
    }
   },
   "outputs": [
    {
     "data": {
      "image/png": "[encoded data removed]",
      "text/plain": [
       "<Figure size 864x432 with 1 Axes>"
      ]
     },
     "metadata": {},
     "output_type": "display_data"
    }
   ],
   "source": [
    "# preview data distribution\n",
    "\n",
    "def print_data(label_distr, label_name):\n",
    "    plt.figure(figsize=(12,6))\n",
    "\n",
    "    my_circle = plt.Circle( (0,0), 0.7, color='white')\n",
    "    plt.pie(label_distr, labels=label_name, autopct='%1.1f%%')\n",
    "    plt.gcf().gca().add_artist(my_circle)\n",
    "    plt.show()\n",
    "    \n",
    "unique = np.unique(names)\n",
    "label_distr = {i:names.count(i) for i in names}.values()\n",
    "print_data(label_distr, unique)"
   ]
  },
  {
   "cell_type": "code",
   "execution_count": 16,
   "metadata": {
    "ExecuteTime": {
     "end_time": "2022-05-10T17:34:10.925030Z",
     "start_time": "2022-05-10T17:34:10.882991Z"
    }
   },
   "outputs": [],
   "source": [
    "# reduce sample size per-class using numpy random choice\n",
    "n = 1000\n",
    "\n",
    "def randc(labels, l):\n",
    "    return np.random.choice(np.where(np.array(labels) == l)[0], n, replace=False)\n",
    "\n",
    "mask = np.hstack([randc(names, l) for l in np.unique(names)])"
   ]
  },
  {
   "cell_type": "code",
   "execution_count": 17,
   "metadata": {
    "ExecuteTime": {
     "end_time": "2022-05-10T17:34:10.933037Z",
     "start_time": "2022-05-10T17:34:10.926030Z"
    }
   },
   "outputs": [],
   "source": [
    "names = [names[m] for m in mask]\n",
    "images = [images[m] for m in mask]"
   ]
  },
  {
   "cell_type": "code",
   "execution_count": 18,
   "metadata": {
    "ExecuteTime": {
     "end_time": "2022-05-10T17:34:12.602551Z",
     "start_time": "2022-05-10T17:34:10.934037Z"
    }
   },
   "outputs": [
    {
     "data": {
      "image/png": "[encoded data removed]",
      "text/plain": [
       "<Figure size 864x432 with 1 Axes>"
      ]
     },
     "metadata": {},
     "output_type": "display_data"
    }
   ],
   "source": [
    "label_distr = {i:names.count(i) for i in names}.values()\n",
    "print_data(label_distr, unique)"
   ]
  },
  {
   "cell_type": "markdown",
   "metadata": {},
   "source": [
    "### 1.2 Encoding Label & Categoricalization"
   ]
  },
  {
   "cell_type": "code",
   "execution_count": 19,
   "metadata": {
    "ExecuteTime": {
     "end_time": "2022-05-10T17:34:12.612560Z",
     "start_time": "2022-05-10T17:34:12.603552Z"
    }
   },
   "outputs": [],
   "source": [
    "# 아래에서 numpy Array가 아닌 인코딩 된 리스트를 사용해 서보 모터 돌리는 코드를 쓰기 때문에 \n",
    "le = LabelEncoder()\n",
    "\n",
    "le.fit(names)\n",
    "\n",
    "labels = le.classes_\n",
    "\n",
    "name_vec = le.transform(names)\n",
    "\n",
    "categorical_name_vec = to_categorical(name_vec)"
   ]
  },
  {
   "cell_type": "code",
   "execution_count": 20,
   "metadata": {
    "ExecuteTime": {
     "end_time": "2022-05-10T17:34:12.617564Z",
     "start_time": "2022-05-10T17:34:12.613561Z"
    }
   },
   "outputs": [
    {
     "name": "stdout",
     "output_type": "stream",
     "text": [
      "number of class : 14\n",
      "['Ariel_Sharon' 'Colin_Powell' 'Donald_Rumsfeld' 'George_W_Bush'\n",
      " 'Gerhard_Schroeder' 'Hugo_Chavez' 'Jacques_Chirac' 'Jean_Chretien'\n",
      " 'John_Ashcroft' 'Junichiro_Koizumi' 'KeonHee_Jeong' 'KyungSoo_Jeong'\n",
      " 'Serena_Williams' 'Tony_Blair']\n"
     ]
    }
   ],
   "source": [
    "print(\"number of class :\", len(labels))\n",
    "print(labels)"
   ]
  },
  {
   "cell_type": "code",
   "execution_count": 21,
   "metadata": {
    "ExecuteTime": {
     "end_time": "2022-05-10T17:34:12.629576Z",
     "start_time": "2022-05-10T17:34:12.618565Z"
    }
   },
   "outputs": [
    {
     "name": "stdout",
     "output_type": "stream",
     "text": [
      "[ 0  0  0 ... 13 13 13]\n"
     ]
    }
   ],
   "source": [
    "print(name_vec)"
   ]
  },
  {
   "cell_type": "code",
   "execution_count": 22,
   "metadata": {
    "ExecuteTime": {
     "end_time": "2022-05-10T17:34:12.639585Z",
     "start_time": "2022-05-10T17:34:12.630576Z"
    }
   },
   "outputs": [
    {
     "name": "stdout",
     "output_type": "stream",
     "text": [
      "[[1. 0. 0. ... 0. 0. 0.]\n",
      " [1. 0. 0. ... 0. 0. 0.]\n",
      " [1. 0. 0. ... 0. 0. 0.]\n",
      " ...\n",
      " [0. 0. 0. ... 0. 0. 1.]\n",
      " [0. 0. 0. ... 0. 0. 1.]\n",
      " [0. 0. 0. ... 0. 0. 1.]]\n"
     ]
    }
   ],
   "source": [
    "print(categorical_name_vec)"
   ]
  },
  {
   "cell_type": "markdown",
   "metadata": {},
   "source": [
    "- 학습 데이터, 테스트 데이터 0.85 : 0.15로 분할"
   ]
  },
  {
   "cell_type": "code",
   "execution_count": 23,
   "metadata": {
    "ExecuteTime": {
     "end_time": "2022-05-10T17:34:12.744680Z",
     "start_time": "2022-05-10T17:34:12.640585Z"
    }
   },
   "outputs": [],
   "source": [
    "x_train, x_test, y_train, y_test = train_test_split(np.array(images, dtype=np.float32),   # input data\n",
    "                                                    np.array(categorical_name_vec),       # target/output data \n",
    "                                                    test_size=0.15, \n",
    "                                                    random_state=42)"
   ]
  },
  {
   "cell_type": "code",
   "execution_count": 24,
   "metadata": {
    "ExecuteTime": {
     "end_time": "2022-05-10T17:34:12.747684Z",
     "start_time": "2022-05-10T17:34:12.745681Z"
    }
   },
   "outputs": [
    {
     "name": "stdout",
     "output_type": "stream",
     "text": [
      "(11900, 50, 50) (11900, 14) (2100, 50, 50) (2100, 14)\n"
     ]
    }
   ],
   "source": [
    "print(x_train.shape, y_train.shape, x_test.shape,  y_test.shape)"
   ]
  },
  {
   "cell_type": "markdown",
   "metadata": {},
   "source": [
    "- 데이터 reshape"
   ]
  },
  {
   "cell_type": "code",
   "execution_count": 25,
   "metadata": {
    "ExecuteTime": {
     "end_time": "2022-05-10T17:34:12.758693Z",
     "start_time": "2022-05-10T17:34:12.748684Z"
    }
   },
   "outputs": [],
   "source": [
    "x_train = x_train.reshape(x_train.shape[0], x_train.shape[1], x_train.shape[2], 1)\n",
    "x_test = x_test.reshape(x_test.shape[0], x_test.shape[1], x_test.shape[2], 1)"
   ]
  },
  {
   "cell_type": "code",
   "execution_count": 26,
   "metadata": {
    "ExecuteTime": {
     "end_time": "2022-05-10T17:34:12.770704Z",
     "start_time": "2022-05-10T17:34:12.759694Z"
    }
   },
   "outputs": [
    {
     "data": {
      "text/plain": [
       "((11900, 50, 50, 1), (2100, 50, 50, 1))"
      ]
     },
     "execution_count": 26,
     "metadata": {},
     "output_type": "execute_result"
    }
   ],
   "source": [
    "x_train.shape, x_test.shape"
   ]
  },
  {
   "cell_type": "markdown",
   "metadata": {},
   "source": [
    "### Create CNN Model 생성"
   ]
  },
  {
   "cell_type": "code",
   "execution_count": 50,
   "metadata": {
    "ExecuteTime": {
     "end_time": "2022-05-10T18:08:01.613622Z",
     "start_time": "2022-05-10T18:08:01.606615Z"
    }
   },
   "outputs": [],
   "source": [
    "def cnn_model(input_shape):  \n",
    "    model = Sequential()\n",
    "    \n",
    "    model.add(Conv2D(64,\n",
    "                    (3,3),\n",
    "                    padding=\"valid\",\n",
    "                    activation=\"relu\",\n",
    "                    input_shape=input_shape))\n",
    "    model.add(Conv2D(64,\n",
    "                    (3,3),\n",
    "                    padding=\"valid\",\n",
    "                    activation=\"relu\",\n",
    "                    input_shape=input_shape))\n",
    "    \n",
    "    model.add(MaxPool2D(pool_size=(2, 2)))\n",
    "    \n",
    "    model.add(Conv2D(128,\n",
    "                    (3,3),\n",
    "                    padding=\"valid\",\n",
    "                    activation=\"relu\"))\n",
    "    model.add(Conv2D(128,\n",
    "                    (3,3),\n",
    "                    padding=\"valid\",\n",
    "                    activation=\"relu\"))\n",
    "    model.add(MaxPool2D(pool_size=(2, 2)))\n",
    "    \n",
    "    model.add(Flatten())\n",
    "    \n",
    "    model.add(Dense(64, activation=\"relu\")) # 원래는 128, 64였음 -> 모델 비교용으로 변경\n",
    "    model.add(Dense(32, activation=\"relu\"))\n",
    "    model.add(Dense(len(labels)))   # len(labels)는 데이터 갯수 길이 \n",
    "    model.add(Activation(\"softmax\"))\n",
    "    \n",
    "    model.summary() \n",
    "    \n",
    "    model.compile(optimizer='adam', \n",
    "                  loss='categorical_crossentropy',\n",
    "                  metrics = ['accuracy'])\n",
    "\n",
    "    return model"
   ]
  },
  {
   "cell_type": "markdown",
   "metadata": {},
   "source": [
    "### Training CNN Model 학습"
   ]
  },
  {
   "cell_type": "code",
   "execution_count": 51,
   "metadata": {
    "ExecuteTime": {
     "end_time": "2022-05-10T18:08:03.121491Z",
     "start_time": "2022-05-10T18:08:03.056432Z"
    },
    "scrolled": true
   },
   "outputs": [
    {
     "name": "stdout",
     "output_type": "stream",
     "text": [
      "Model: \"sequential_3\"\n",
      "_________________________________________________________________\n",
      "Layer (type)                 Output Shape              Param #   \n",
      "=================================================================\n",
      "conv2d_8 (Conv2D)            (None, 48, 48, 64)        640       \n",
      "_________________________________________________________________\n",
      "conv2d_9 (Conv2D)            (None, 46, 46, 64)        36928     \n",
      "_________________________________________________________________\n",
      "max_pooling2d_4 (MaxPooling2 (None, 23, 23, 64)        0         \n",
      "_________________________________________________________________\n",
      "conv2d_10 (Conv2D)           (None, 21, 21, 128)       73856     \n",
      "_________________________________________________________________\n",
      "conv2d_11 (Conv2D)           (None, 19, 19, 128)       147584    \n",
      "_________________________________________________________________\n",
      "max_pooling2d_5 (MaxPooling2 (None, 9, 9, 128)         0         \n",
      "_________________________________________________________________\n",
      "flatten_2 (Flatten)          (None, 10368)             0         \n",
      "_________________________________________________________________\n",
      "dense_6 (Dense)              (None, 64)                663616    \n",
      "_________________________________________________________________\n",
      "dense_7 (Dense)              (None, 32)                2080      \n",
      "_________________________________________________________________\n",
      "dense_8 (Dense)              (None, 14)                462       \n",
      "_________________________________________________________________\n",
      "activation_2 (Activation)    (None, 14)                0         \n",
      "=================================================================\n",
      "Total params: 925,166\n",
      "Trainable params: 925,166\n",
      "Non-trainable params: 0\n",
      "_________________________________________________________________\n"
     ]
    }
   ],
   "source": [
    "input_shape = x_train[0].shape\n",
    "\n",
    "EPOCHS = 10\n",
    "BATCH_SIZE = 32\n",
    "\n",
    "model = cnn_model(input_shape)"
   ]
  },
  {
   "cell_type": "code",
   "execution_count": 52,
   "metadata": {
    "ExecuteTime": {
     "end_time": "2022-05-10T18:08:39.178939Z",
     "start_time": "2022-05-10T18:08:07.017417Z"
    },
    "scrolled": true
   },
   "outputs": [
    {
     "name": "stdout",
     "output_type": "stream",
     "text": [
      "Epoch 1/10\n",
      "317/317 [==============================] - 4s 10ms/step - loss: 3.1267 - accuracy: 0.1907 - val_loss: 1.4253 - val_accuracy: 0.5613\n",
      "Epoch 2/10\n",
      "317/317 [==============================] - 3s 10ms/step - loss: 1.1956 - accuracy: 0.6220 - val_loss: 0.7842 - val_accuracy: 0.7585\n",
      "Epoch 3/10\n",
      "317/317 [==============================] - 3s 10ms/step - loss: 0.6433 - accuracy: 0.7914 - val_loss: 0.7493 - val_accuracy: 0.7574\n",
      "Epoch 4/10\n",
      "317/317 [==============================] - 3s 10ms/step - loss: 0.4759 - accuracy: 0.8445 - val_loss: 0.4082 - val_accuracy: 0.8700\n",
      "Epoch 5/10\n",
      "317/317 [==============================] - 3s 10ms/step - loss: 0.3307 - accuracy: 0.8919 - val_loss: 0.3583 - val_accuracy: 0.8919\n",
      "Epoch 6/10\n",
      "317/317 [==============================] - 3s 10ms/step - loss: 0.2341 - accuracy: 0.9216 - val_loss: 0.3393 - val_accuracy: 0.8986\n",
      "Epoch 7/10\n",
      "317/317 [==============================] - 3s 10ms/step - loss: 0.2114 - accuracy: 0.9332 - val_loss: 0.4362 - val_accuracy: 0.8840\n",
      "Epoch 8/10\n",
      "317/317 [==============================] - 3s 10ms/step - loss: 0.1603 - accuracy: 0.9476 - val_loss: 0.3079 - val_accuracy: 0.9048\n",
      "Epoch 9/10\n",
      "317/317 [==============================] - 4s 11ms/step - loss: 0.1630 - accuracy: 0.9496 - val_loss: 0.4214 - val_accuracy: 0.8913\n",
      "Epoch 10/10\n",
      "317/317 [==============================] - 3s 10ms/step - loss: 0.0940 - accuracy: 0.9679 - val_loss: 0.2526 - val_accuracy: 0.9289\n"
     ]
    }
   ],
   "source": [
    "history = model.fit(x_train, \n",
    "                    y_train,\n",
    "                    epochs=EPOCHS,\n",
    "                    batch_size=BATCH_SIZE,\n",
    "                    shuffle=True,\n",
    "                    validation_split=0.15   # 15% of train dataset will be used as validation set\n",
    "                    )"
   ]
  },
  {
   "cell_type": "markdown",
   "metadata": {
    "ExecuteTime": {
     "end_time": "2022-05-11T01:29:07.515487Z",
     "start_time": "2022-05-11T01:29:07.499474Z"
    }
   },
   "source": [
    "# 모델 예측 및 평가"
   ]
  },
  {
   "cell_type": "code",
   "execution_count": 53,
   "metadata": {
    "ExecuteTime": {
     "end_time": "2022-05-10T18:08:56.601734Z",
     "start_time": "2022-05-10T18:08:56.510652Z"
    },
    "scrolled": false
   },
   "outputs": [
    {
     "ename": "KeyError",
     "evalue": "'acc'",
     "output_type": "error",
     "traceback": [
      "\u001b[1;31m---------------------------------------------------------------------------\u001b[0m",
      "\u001b[1;31mKeyError\u001b[0m                                  Traceback (most recent call last)",
      "\u001b[1;32m<ipython-input-53-0cb243843e67>\u001b[0m in \u001b[0;36m<module>\u001b[1;34m\u001b[0m\n\u001b[0;32m     13\u001b[0m         \u001b[0mplt\u001b[0m\u001b[1;33m.\u001b[0m\u001b[0mshow\u001b[0m\u001b[1;33m(\u001b[0m\u001b[1;33m)\u001b[0m\u001b[1;33m\u001b[0m\u001b[1;33m\u001b[0m\u001b[0m\n\u001b[0;32m     14\u001b[0m \u001b[1;33m\u001b[0m\u001b[0m\n\u001b[1;32m---> 15\u001b[1;33m \u001b[0mevaluate_model_\u001b[0m\u001b[1;33m(\u001b[0m\u001b[0mhistory\u001b[0m\u001b[1;33m)\u001b[0m\u001b[1;33m\u001b[0m\u001b[1;33m\u001b[0m\u001b[0m\n\u001b[0m",
      "\u001b[1;32m<ipython-input-53-0cb243843e67>\u001b[0m in \u001b[0;36mevaluate_model_\u001b[1;34m(history)\u001b[0m\n\u001b[0;32m      4\u001b[0m     \u001b[1;32mfor\u001b[0m \u001b[0mname\u001b[0m \u001b[1;32min\u001b[0m \u001b[0mnames\u001b[0m \u001b[1;33m:\u001b[0m\u001b[1;33m\u001b[0m\u001b[1;33m\u001b[0m\u001b[0m\n\u001b[0;32m      5\u001b[0m         \u001b[0mfig1\u001b[0m\u001b[1;33m,\u001b[0m \u001b[0max_acc\u001b[0m \u001b[1;33m=\u001b[0m \u001b[0mplt\u001b[0m\u001b[1;33m.\u001b[0m\u001b[0msubplots\u001b[0m\u001b[1;33m(\u001b[0m\u001b[1;33m)\u001b[0m\u001b[1;33m\u001b[0m\u001b[1;33m\u001b[0m\u001b[0m\n\u001b[1;32m----> 6\u001b[1;33m         \u001b[0mplt\u001b[0m\u001b[1;33m.\u001b[0m\u001b[0mplot\u001b[0m\u001b[1;33m(\u001b[0m\u001b[0mhistory\u001b[0m\u001b[1;33m.\u001b[0m\u001b[0mhistory\u001b[0m\u001b[1;33m[\u001b[0m\u001b[0mname\u001b[0m\u001b[1;33m[\u001b[0m\u001b[1;36m0\u001b[0m\u001b[1;33m]\u001b[0m\u001b[1;33m]\u001b[0m\u001b[1;33m)\u001b[0m\u001b[1;33m\u001b[0m\u001b[1;33m\u001b[0m\u001b[0m\n\u001b[0m\u001b[0;32m      7\u001b[0m         \u001b[0mplt\u001b[0m\u001b[1;33m.\u001b[0m\u001b[0mplot\u001b[0m\u001b[1;33m(\u001b[0m\u001b[0mhistory\u001b[0m\u001b[1;33m.\u001b[0m\u001b[0mhistory\u001b[0m\u001b[1;33m[\u001b[0m\u001b[0mname\u001b[0m\u001b[1;33m[\u001b[0m\u001b[1;36m1\u001b[0m\u001b[1;33m]\u001b[0m\u001b[1;33m]\u001b[0m\u001b[1;33m)\u001b[0m\u001b[1;33m\u001b[0m\u001b[1;33m\u001b[0m\u001b[0m\n\u001b[0;32m      8\u001b[0m         \u001b[0mplt\u001b[0m\u001b[1;33m.\u001b[0m\u001b[0mxlabel\u001b[0m\u001b[1;33m(\u001b[0m\u001b[1;34m'Epoch'\u001b[0m\u001b[1;33m)\u001b[0m\u001b[1;33m\u001b[0m\u001b[1;33m\u001b[0m\u001b[0m\n",
      "\u001b[1;31mKeyError\u001b[0m: 'acc'"
     ]
    },
    {
     "data": {
      "image/png": "[encoded data removed]",
      "text/plain": [
       "<Figure size 432x288 with 1 Axes>"
      ]
     },
     "metadata": {
      "needs_background": "light"
     },
     "output_type": "display_data"
    }
   ],
   "source": [
    "def evaluate_model_(history):\n",
    "    names = [['acc', 'val_acc'], \n",
    "             ['loss', 'val_loss']]\n",
    "    for name in names :\n",
    "        fig1, ax_acc = plt.subplots()\n",
    "        plt.plot(history.history[name[0]])\n",
    "        plt.plot(history.history[name[1]])\n",
    "        plt.xlabel('Epoch')\n",
    "        plt.ylabel(name[0])\n",
    "        plt.title('Model - ' + name[0])\n",
    "        plt.legend(['Training', 'Validation'], loc='lower right')\n",
    "        plt.grid()\n",
    "        plt.show()\n",
    "        \n",
    "evaluate_model_(history)"
   ]
  },
  {
   "cell_type": "markdown",
   "metadata": {},
   "source": [
    "- save model"
   ]
  },
  {
   "cell_type": "code",
   "execution_count": 54,
   "metadata": {
    "ExecuteTime": {
     "end_time": "2022-05-10T18:08:57.155153Z",
     "start_time": "2022-05-10T18:08:57.096433Z"
    }
   },
   "outputs": [],
   "source": [
    "model.save(\"model-cnn-facerecognition.h5\")"
   ]
  },
  {
   "cell_type": "markdown",
   "metadata": {},
   "source": [
    "- predict to all test dataset"
   ]
  },
  {
   "cell_type": "code",
   "execution_count": 55,
   "metadata": {
    "ExecuteTime": {
     "end_time": "2022-05-10T18:08:59.431672Z",
     "start_time": "2022-05-10T18:08:59.208471Z"
    }
   },
   "outputs": [],
   "source": [
    "# predict test data\n",
    "y_pred=model.predict(x_test)"
   ]
  },
  {
   "cell_type": "code",
   "execution_count": 56,
   "metadata": {
    "ExecuteTime": {
     "end_time": "2022-05-10T18:08:59.620634Z",
     "start_time": "2022-05-10T18:08:59.616630Z"
    }
   },
   "outputs": [
    {
     "name": "stdout",
     "output_type": "stream",
     "text": [
      "[ 2  3  0 ... 13  5  9]\n"
     ]
    }
   ],
   "source": [
    "print(y_pred.argmax(axis=1))"
   ]
  },
  {
   "cell_type": "code",
   "execution_count": 57,
   "metadata": {
    "ExecuteTime": {
     "end_time": "2022-05-10T18:09:00.537121Z",
     "start_time": "2022-05-10T18:09:00.529114Z"
    }
   },
   "outputs": [
    {
     "ename": "NameError",
     "evalue": "name 'load_model' is not defined",
     "output_type": "error",
     "traceback": [
      "\u001b[1;31m---------------------------------------------------------------------------\u001b[0m",
      "\u001b[1;31mNameError\u001b[0m                                 Traceback (most recent call last)",
      "\u001b[1;32m<ipython-input-57-e50be443b9c5>\u001b[0m in \u001b[0;36m<module>\u001b[1;34m\u001b[0m\n\u001b[1;32m----> 1\u001b[1;33m \u001b[0mmodel\u001b[0m \u001b[1;33m=\u001b[0m \u001b[0mload_model\u001b[0m\u001b[1;33m(\u001b[0m\u001b[1;34m\"model-cnn-facerecognition.h5\"\u001b[0m\u001b[1;33m)\u001b[0m\u001b[1;33m\u001b[0m\u001b[1;33m\u001b[0m\u001b[0m\n\u001b[0m",
      "\u001b[1;31mNameError\u001b[0m: name 'load_model' is not defined"
     ]
    }
   ],
   "source": [
    "model = load_model(\"model-cnn-facerecognition.h5\")"
   ]
  },
  {
   "cell_type": "markdown",
   "metadata": {},
   "source": [
    "- plot confusion matrix 함수를 만들고 적용"
   ]
  },
  {
   "cell_type": "code",
   "execution_count": 62,
   "metadata": {
    "ExecuteTime": {
     "end_time": "2022-05-11T01:18:37.898019Z",
     "start_time": "2022-05-11T01:18:37.869990Z"
    }
   },
   "outputs": [],
   "source": [
    "# Confusion Matrix\n",
    "def plot_confusion_matrix(cm, classes,\n",
    "                          normalize=False,\n",
    "                          title='Confusion matrix',\n",
    "                          cmap=plt.cm.Blues):\n",
    "    if normalize:\n",
    "        cm = cm.astype('float') / cm.sum(axis=1)[:, np.newaxis]\n",
    "\n",
    "    plt.figure(figsize=(8, 8))\n",
    "    \n",
    "    plt.imshow(cm, interpolation='nearest', cmap=cmap)\n",
    "    plt.title(title)\n",
    "    plt.colorbar()\n",
    "    \n",
    "    tick_marks = np.arange(len(classes))\n",
    "    plt.xticks(tick_marks, classes, rotation=45)\n",
    "    plt.yticks(tick_marks, classes)\n",
    "\n",
    "    fmt = '.2f' if normalize else 'd'\n",
    "    thresh = cm.max() / 2.\n",
    "    for i, j in itertools.product(range(cm.shape[0]), range(cm.shape[1])):\n",
    "        plt.text(j, i, format(cm[i, j], fmt),\n",
    "                 horizontalalignment=\"center\",\n",
    "                 color=\"white\" if cm[i, j] > thresh else \"black\")\n",
    "\n",
    "    plt.tight_layout()\n",
    "    plt.ylabel('True label')\n",
    "    plt.xlabel('Predicted label')\n",
    "    plt.show()"
   ]
  },
  {
   "cell_type": "code",
   "execution_count": 59,
   "metadata": {
    "ExecuteTime": {
     "end_time": "2022-05-10T18:09:03.871100Z",
     "start_time": "2022-05-10T18:09:03.361135Z"
    }
   },
   "outputs": [
    {
     "data": {
      "image/png": "[encoded data removed]",
      "text/plain": [
       "<Figure size 576x576 with 2 Axes>"
      ]
     },
     "metadata": {
      "needs_background": "light"
     },
     "output_type": "display_data"
    }
   ],
   "source": [
    "cnf_matrix = confusion_matrix(y_test.argmax(axis=1), y_pred.argmax(axis=1))\n",
    "np.set_printoptions(precision=2)\n",
    "\n",
    "\n",
    "# Plot confusion matrix\n",
    "plot_confusion_matrix(cnf_matrix, classes=labels,normalize=False,\n",
    "                      title='Confusion matrix')\n"
   ]
  },
  {
   "cell_type": "markdown",
   "metadata": {},
   "source": [
    "- Calculate metric report menggunakan `classification_report()` pada `scikit-learn` "
   ]
  },
  {
   "cell_type": "code",
   "execution_count": 60,
   "metadata": {
    "ExecuteTime": {
     "end_time": "2022-05-10T18:09:05.120420Z",
     "start_time": "2022-05-10T18:09:05.112414Z"
    }
   },
   "outputs": [
    {
     "name": "stdout",
     "output_type": "stream",
     "text": [
      "                   precision    recall  f1-score   support\n",
      "\n",
      "     Ariel_Sharon       0.90      0.96      0.93       150\n",
      "     Colin_Powell       0.88      0.98      0.93       147\n",
      "  Donald_Rumsfeld       0.92      0.91      0.91       157\n",
      "    George_W_Bush       0.95      0.85      0.90       142\n",
      "Gerhard_Schroeder       0.94      0.92      0.93       148\n",
      "      Hugo_Chavez       0.93      0.90      0.91       151\n",
      "   Jacques_Chirac       0.94      0.97      0.95       162\n",
      "    Jean_Chretien       0.99      0.92      0.96       144\n",
      "    John_Ashcroft       0.94      0.93      0.94       156\n",
      "Junichiro_Koizumi       0.99      0.97      0.98       159\n",
      "    KeonHee_Jeong       0.99      1.00      0.99       148\n",
      "   KyungSoo_Jeong       0.96      0.99      0.97       137\n",
      "  Serena_Williams       0.99      0.96      0.98       135\n",
      "       Tony_Blair       0.87      0.88      0.88       164\n",
      "\n",
      "         accuracy                           0.94      2100\n",
      "        macro avg       0.94      0.94      0.94      2100\n",
      "     weighted avg       0.94      0.94      0.94      2100\n",
      "\n"
     ]
    }
   ],
   "source": [
    "print(classification_report(y_test.argmax(axis=1), \n",
    "                            y_pred.argmax(axis=1), \n",
    "                            target_names=labels))"
   ]
  },
  {
   "cell_type": "code",
   "execution_count": null,
   "metadata": {
    "ExecuteTime": {
     "end_time": "2022-05-10T16:15:10.201029Z",
     "start_time": "2022-05-10T16:15:10.191019Z"
    }
   },
   "outputs": [],
   "source": [
    "x_train = pd.DataFrame(x_train, columns = x.columns)"
   ]
  },
  {
   "cell_type": "markdown",
   "metadata": {},
   "source": [
    "# VideoCapture로 Video Frame을 받아 얼굴을 인식"
   ]
  },
  {
   "cell_type": "code",
   "execution_count": null,
   "metadata": {
    "ExecuteTime": {
     "end_time": "2022-05-10T16:40:02.693085Z",
     "start_time": "2022-05-10T16:40:02.690083Z"
    }
   },
   "outputs": [],
   "source": [
    "from tensorflow.keras.models import load_model"
   ]
  },
  {
   "cell_type": "code",
   "execution_count": null,
   "metadata": {
    "ExecuteTime": {
     "end_time": "2022-05-10T16:37:01.505241Z",
     "start_time": "2022-05-10T16:37:01.500237Z"
    }
   },
   "outputs": [],
   "source": [
    "def draw_ped(img, label, x0, y0, xt, yt, color=(255,127,0), text_color=(255,255,255)):\n",
    "\n",
    "    (w, h), baseline = cv2.getTextSize(label, cv2.FONT_HERSHEY_SIMPLEX, 0.5, 1)\n",
    "    cv2.rectangle(img,\n",
    "                  (x0, y0 + baseline),  \n",
    "                  (max(xt, x0 + w), yt), \n",
    "                  color, \n",
    "                  2)\n",
    "    cv2.rectangle(img,\n",
    "                  (x0, y0 - h),  \n",
    "                  (x0 + w, y0 + baseline), \n",
    "                  color, \n",
    "                  -1)  \n",
    "    cv2.putText(img, \n",
    "                label, \n",
    "                (x0, y0),                   \n",
    "                cv2.FONT_HERSHEY_SIMPLEX,     \n",
    "                0.5,                          \n",
    "                text_color,                \n",
    "                1,\n",
    "                cv2.LINE_AA) \n",
    "    return img"
   ]
  },
  {
   "cell_type": "code",
   "execution_count": 65,
   "metadata": {
    "ExecuteTime": {
     "end_time": "2022-05-11T01:30:04.669050Z",
     "start_time": "2022-05-11T01:30:04.482877Z"
    },
    "scrolled": true
   },
   "outputs": [
    {
     "ename": "NameError",
     "evalue": "name 'load_model' is not defined",
     "output_type": "error",
     "traceback": [
      "\u001b[1;31m---------------------------------------------------------------------------\u001b[0m",
      "\u001b[1;31mNameError\u001b[0m                                 Traceback (most recent call last)",
      "\u001b[1;32m<ipython-input-65-e732f437d4f7>\u001b[0m in \u001b[0;36m<module>\u001b[1;34m\u001b[0m\n\u001b[0;32m      3\u001b[0m \u001b[1;33m\u001b[0m\u001b[0m\n\u001b[0;32m      4\u001b[0m \u001b[1;31m# --------- Keras CNN model 불러오기 -------------\u001b[0m\u001b[1;33m\u001b[0m\u001b[1;33m\u001b[0m\u001b[1;33m\u001b[0m\u001b[0m\n\u001b[1;32m----> 5\u001b[1;33m \u001b[0mmodel\u001b[0m \u001b[1;33m=\u001b[0m \u001b[0mload_model\u001b[0m\u001b[1;33m(\u001b[0m\u001b[1;34m\"model-cnn-facerecognition.h5\"\u001b[0m\u001b[1;33m)\u001b[0m\u001b[1;33m\u001b[0m\u001b[1;33m\u001b[0m\u001b[0m\n\u001b[0m\u001b[0;32m      6\u001b[0m \u001b[0mprint\u001b[0m\u001b[1;33m(\u001b[0m\u001b[1;34m\"[INFO] finish load model...\"\u001b[0m\u001b[1;33m)\u001b[0m\u001b[1;33m\u001b[0m\u001b[1;33m\u001b[0m\u001b[0m\n\u001b[0;32m      7\u001b[0m \u001b[1;33m\u001b[0m\u001b[0m\n",
      "\u001b[1;31mNameError\u001b[0m: name 'load_model' is not defined"
     ]
    }
   ],
   "source": [
    "# --------- Haar Cascade model 불러오기 -------------\n",
    "face_cascade = cv2.CascadeClassifier('haarcascades/haarcascade_frontalface_default.xml')\n",
    "\n",
    "# --------- Keras CNN model 불러오기 -------------\n",
    "model = load_model(\"model-cnn-facerecognition.h5\")\n",
    "print(\"[INFO] finish load model...\")\n",
    "\n",
    "names = np.array(['Ariel_Sharon', 'Colin_Powell', 'Donald_Rumsfeld', 'George_W_Bush', 'Gerhard_Schroeder', 'Hugo_Chavez', 'Jacques_Chirac',\n",
    "         'Jean_Chretien', 'John_Ashcroft', 'Junichiro_Koizumi', 'KeonHee_Jeong', 'KyungSoo_Jeong', 'Serena_Williams', 'Tony_Blair'])\n",
    "\n",
    "cap = cv2.VideoCapture(0)\n",
    "while cap.isOpened() :\n",
    "    ret, frame = cap.read()\n",
    "    if ret:\n",
    "        gray = cv2.cvtColor(frame, cv2.COLOR_BGR2GRAY)\n",
    "        faces = face_cascade.detectMultiScale(gray, 1.1, 5)\n",
    "        for (x, y, w, h) in faces:\n",
    "            \n",
    "            face_img = gray[y:y+h, x:x+w]\n",
    "            face_img = cv2.resize(face_img, (50, 50))\n",
    "            face_img = face_img.reshape(1, 50, 50, 1)\n",
    "            \n",
    "            result = model.predict(face_img)\n",
    "            idx = result.argmax(axis=1)\n",
    "            confidence = result.max(axis=1)*100\n",
    "            label_text = \"%s (%.2f %%)\" % (names[idx], confidence)\n",
    "            frame = draw_ped(frame, label_text, x, y, x + w, y + h, color=(0,255,255), text_color=(50,50,50))\n",
    "            if confidence > 90:\n",
    "                label_text = \"%s (%.2f %%)\" % (labels[idx], confidence)\n",
    "            else :\n",
    "                label_text = \"N/A\" #continue로 써도 됨\n",
    "            frame = draw_ped(frame, label_text, x, y, x + w, y + h, color=(0,255,255), text_color=(50,50,50))\n",
    "       \n",
    "        cv2.imshow('Detect Face', frame)\n",
    "    else :\n",
    "        break\n",
    "    if cv2.waitKey(10) == ord('q'):\n",
    "        break\n",
    "        \n",
    "cv2.destroyAllWindows()\n",
    "cap.release()"
   ]
  },
  {
   "cell_type": "code",
   "execution_count": null,
   "metadata": {},
   "outputs": [],
   "source": []
  }
 ],
 "metadata": {
  "kernelspec": {
   "display_name": "Python 3",
   "language": "python",
   "name": "python3"
  },
  "language_info": {
   "codemirror_mode": {
    "name": "ipython",
    "version": 3
   },
   "file_extension": ".py",
   "mimetype": "text/x-python",
   "name": "python",
   "nbconvert_exporter": "python",
   "pygments_lexer": "ipython3",
   "version": "3.7.6"
  },
  "toc": {
   "base_numbering": 1,
   "nav_menu": {},
   "number_sections": true,
   "sideBar": true,
   "skip_h1_title": false,
   "title_cell": "Table of Contents",
   "title_sidebar": "Contents",
   "toc_cell": false,
   "toc_position": {},
   "toc_section_display": true,
   "toc_window_display": false
  }
 },
 "nbformat": 4,
 "nbformat_minor": 4
}
